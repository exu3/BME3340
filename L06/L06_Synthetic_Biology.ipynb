{
 "cells": [
  {
   "cell_type": "markdown",
   "id": "35a45669-ee11-4ef5-a0bd-3b540cc5063e",
   "metadata": {},
   "source": [
    "# L6 Synthetic Biology (Toggle Switch)"
   ]
  },
  {
   "cell_type": "markdown",
   "id": "21149327-ce72-46c2-8129-2cdf15370c5e",
   "metadata": {},
   "source": [
    "## Overview\n",
    "\n",
    "In this notebook we will explore the concept of bistability in genetic circuits. Bistability is the phenomena where a dynamical system has two different stable states. The system will sit in either of these states until it is perturbed or induced to switch to the other. In populations of cells that are randomly perturbed and switching between states this leads to bimodal distributions, which can be useful for diversifying phenotypes and bet-hedging. In genetic circuits bistabilty can lead to all-or-none dynamics, where genes are either turned all the way on or all the way off in response to a stimuli. Bistability is also used to make cellular memory units that respond to and remember specific transient inputs. We will start by analyzing a simple form of bistability that arises from positive autoregulation with ultrasensitivity. We will then look at bistability in the model for a genetic toggle switch from [Gardner et al](https://www.nature.com/articles/35002131). \n"
   ]
  },
  {
   "cell_type": "code",
   "execution_count": null,
   "id": "e879b935-2ab8-4ac4-b64c-5b3e11d8a29b",
   "metadata": {},
   "outputs": [],
   "source": [
    "%reset"
   ]
  },
  {
   "cell_type": "code",
   "execution_count": null,
   "id": "c81dfcd6-1fc3-4187-b022-71bbb256ef0b",
   "metadata": {},
   "outputs": [],
   "source": [
    "# Imports\n",
    "import numpy as np\n",
    "from scipy.integrate import solve_ivp\n",
    "import matplotlib.pyplot as plt\n"
   ]
  },
  {
   "cell_type": "markdown",
   "id": "909c50e9-84e6-4c3d-af2e-e4043bbc8d70",
   "metadata": {},
   "source": [
    "### Bistability (Positve Autoregulation with Ultrasensitivty)\n",
    "\n",
    "We will start with a simple model of gene regulation that leads to bistability (the gene is off or on). In this circuit, the gene exhibits positive autoregulation, it increases its own expression. This positive effect is also ultrasensitive, it has a sharper sensitivity to protein concentration than a standard Michaelis Menten curve. We will explore what these dynamics look like and how they arise using the Hill equation.\n",
    "\n",
    "We can express the dynamics of protein concentration using the following equation: \n",
    "\n",
    "$\\large \\frac{dx}{dt} = \\frac{Cx^{n}}{k^{n}+x^{n}} - \\alpha x$\n",
    "\n",
    "Here the first term is a positive autoregulation Hill equation, and the second is a linear protein dependent degredation. The Hill equation has two parameters: $k$ is the half maximal concnetration (analogous to $K_M$ in the Michaelis Menten equation), and $n$ is the Hill coefficient. A general rule for the Hill coefficient is that it coresponds to the number of monomers the regulator is made from, so if the protein regulating expression is a dimer (two proteins that bind together) then $n=2$. A Hill coefficient greater than 1 ($n>1$) leads to ultrasensitivity and bistability.\n",
    "\n",
    "We will plot the positive and negative components of this function against x to graphically visualize the dynamics of the system, and understand where the steady states occur ($\\frac{dx}{dt}=0$)."
   ]
  },
  {
   "cell_type": "code",
   "execution_count": null,
   "id": "b0bf507a-7a28-425c-b0b2-20309b41a5a0",
   "metadata": {},
   "outputs": [],
   "source": [
    "x = np.linspace(0,10,100)\n",
    "n = 3\n",
    "k = 2\n",
    "C = 1\n",
    "alpha = 0.15\n",
    "positive = C*x**n/(k**n+x**n)\n",
    "negative = alpha * x\n",
    "\n",
    "[fig,axs] = plt.subplots(1,1,figsize=[5,5])\n",
    "axs.plot(x,positive,'r')\n",
    "axs.plot(x,negative,'b')\n",
    "axs.set_xlabel('protein concentration (x)')\n",
    "axs.set_ylabel('rates')\n",
    "axs.legend(['Positive','Negative']);"
   ]
  },
  {
   "cell_type": "markdown",
   "id": "931c368e-3a8b-49ec-89b4-b45cd7645edc",
   "metadata": {},
   "source": [
    "#### QUESTION 1\n",
    "1. For the given parameters (n=3, k=2, C=1, alpha = 0.15):\n",
    "    * a. How many steady states (both stable and unstable) does the system have?\n",
    "    * b. Which are the stable and unstable steady states?"
   ]
  },
  {
   "cell_type": "code",
   "execution_count": null,
   "id": "8387107f-ed0c-46c0-82b5-51c8d13f2f32",
   "metadata": {},
   "outputs": [],
   "source": []
  },
  {
   "cell_type": "markdown",
   "id": "36b03bc8-4b7a-4531-bf7c-20b90ce5bdab",
   "metadata": {},
   "source": [
    "#### QUESTION 2\n",
    "2. Keeping the other parameters constant, change the value of the parameter for degradation rate $\\alpha$.\n",
    "    * a. Does the system maintain bistability independent of the value of $\\alpha$?\n",
    "    * b. Generate and include a new plot with a different $\\alpha$ value to explain your answer."
   ]
  },
  {
   "cell_type": "code",
   "execution_count": null,
   "id": "21d4d705-419b-4143-a71a-7e6d414b4a7e",
   "metadata": {},
   "outputs": [],
   "source": []
  },
  {
   "cell_type": "markdown",
   "id": "c5d0c9d4-f204-4ad7-ac18-9ccb46b5745f",
   "metadata": {},
   "source": [
    "#### QUESTION 3\n",
    "3. Generate a plot of the positive component of the dynamics (the Hill equation) for a Hill coefficient of $n=1$, $n=2$, $n=3$, and $n=10$.\n",
    "   * a. Plot all of these curves on the same plot.\n",
    "   * b. Based on the shape of these curves, explain why bistability requires a Hill coefficient greater than 1."
   ]
  },
  {
   "cell_type": "code",
   "execution_count": null,
   "id": "0eeb081b-3285-443f-b4e3-3b753146763c",
   "metadata": {},
   "outputs": [],
   "source": []
  },
  {
   "attachments": {
    "29c804d1-9192-4071-901b-1ab58a84e1e6.png": {
     "image/png": "[encoded data removed]"
    }
   },
   "cell_type": "markdown",
   "id": "64fdf891-d2b7-4d7f-a223-b936f1881561",
   "metadata": {},
   "source": [
    "### Bistability (The Toggle Switch)\n",
    "\n",
    "The synthetic toggle switch from [Gardner et al](https://www.nature.com/articles/35002131) is an engineered gene curcuit that leads to bistability. In this case the two stable states correspond to the expression of two different proteins (rather than the expression or lack of expression of a single protein in the positive autoregulation with ultrasensitivity example). In the toggle switch, each of the proteins that is expressed represses the expression of the other. This paper was one of the first examples of a completely synthetic engineered gene circuit that was designed with insight from computational modeling.\n",
    "\n",
    "![Screen Shot 2023-02-13 at 1.33.15 PM.png](attachment:29c804d1-9192-4071-901b-1ab58a84e1e6.png)"
   ]
  },
  {
   "cell_type": "markdown",
   "id": "66cd6f2f-7609-4092-a865-50aaa7eeb11c",
   "metadata": {},
   "source": [
    "#### Dimensionless Dynamics\n",
    "\n",
    "The dynamics of the toggle switch gene circuit system are given in a \"dimensionless\" form. Here $u$ and $v$ are the two protiens. Production is modeled with a repressor Hill function, and degradation is protein concentration dependent. The equation is non-dimensionalized such that the only parameters are $\\alpha_{1}$ and $\\alpha_{2}$ (the relative expression strengths) and $\\beta$ and $\\gamma$ the expression ultrasensitivity. The derivation in the appendix shows how these equations relate to the more familiar \"dimensional\" equations we have used in the past, with more easily interpereted parameters.\n",
    "\n",
    "$\\large \\frac{du}{d\\tau}=\\frac{\\alpha_{1}}{(1+v^{\\beta})}-u$\n",
    "\n",
    "$\\large \\frac{dv}{d\\tau}=\\frac{\\alpha_{2}}{(1+u^{\\gamma})}-v$\n",
    "\n"
   ]
  },
  {
   "cell_type": "markdown",
   "id": "98ed9236-bdaf-4438-9df9-5c29a2389cf9",
   "metadata": {},
   "source": [
    "#### Nullclines\n",
    "\n",
    "We can analyze the dynamics of this system by looking at the nullclines. Nullclines are the manifolds of the system along which the rate of change of a variable is equal to 0. This system has two nullclines, one for the rate of change of $u$ and one for the rate of change of $v$. They can be found by setting the rates of change equal to zero in the above equations.\n",
    "\n",
    "$\\large \\frac{du}{d\\tau}=\\frac{\\alpha_{1}}{(1+v^{\\beta})}-u = 0$\n",
    "\n",
    "$\\large u =  \\frac{\\alpha_{1}}{(1+v^{\\beta})}$\n",
    "\n",
    "$\\large \\frac{dv}{d\\tau}=\\frac{\\alpha_{2}}{(1+u^{\\gamma})}-v = 0$\n",
    "\n",
    "$\\large v = \\frac{\\alpha_{2}}{(1+u^{\\gamma})}$\n",
    "\n",
    "By plotting the nullclines we can identify the steady states of the system (where the two lines intersect) and begin to paint a \"phase portrait\" that describes the system dynamics.\n"
   ]
  },
  {
   "cell_type": "code",
   "execution_count": null,
   "id": "899e8075-64e0-4765-9427-9bb3209093a7",
   "metadata": {},
   "outputs": [],
   "source": [
    "# Plotting nullclines\n",
    "beta = 3\n",
    "gamma = beta\n",
    "alpha_2 = 10\n",
    "alpha_1 = alpha_2\n",
    "\n",
    "x_max = 15\n",
    "x = np.linspace(0,x_max,1000)\n",
    "\n",
    "u = alpha_1/(1+x**beta)\n",
    "v = alpha_2/(1+x**gamma)\n",
    "\n",
    "[fig,axs] = plt.subplots(1,1,figsize=[5,5])\n",
    "axs.plot(u,x,'r')\n",
    "axs.plot(x,v,'b')\n",
    "axs.set_xlabel('u')\n",
    "axs.set_ylabel('v')\n",
    "axs.legend(['du/dt = 0','dv/dt = 0']);"
   ]
  },
  {
   "cell_type": "markdown",
   "id": "d3552661-5b9d-44fe-aea1-4f4b5e390b0a",
   "metadata": {},
   "source": [
    "We can explore the dynamics of the system by plotting them on this same graph. Note that here we are plotting the two variables $u$ and $v$ againts each other. Rather than our typical plot of some variable over time. We will define the differential equations so we can simulate dynamics. We will then plot the trajectory of the dynamics on the graph of $u$ vs $v$."
   ]
  },
  {
   "cell_type": "code",
   "execution_count": null,
   "id": "f5efe118-b25c-40ef-ad98-35eef976cdb2",
   "metadata": {},
   "outputs": [],
   "source": [
    "# Define function\n",
    "def TS_dynamics(t,y,alpha_1,alpha_2,beta,gamma):    \n",
    "    #y[0] = u\n",
    "    #y[1] = v\n",
    "    \n",
    "    dydt = np.zeros(2)\n",
    "    \n",
    "    dydt[0] = alpha_1/(1+y[1]**beta) - y[0]\n",
    "    dydt[1] = alpha_2/(1+y[0]**gamma) - y[1]\n",
    "    \n",
    "    return dydt"
   ]
  },
  {
   "cell_type": "code",
   "execution_count": null,
   "id": "82ced643-d1a5-4108-ad14-362e7415c823",
   "metadata": {},
   "outputs": [],
   "source": [
    "[fig,axs] = plt.subplots(1,1,figsize=[5,5])\n",
    "\n",
    "# Simulate dynamics\n",
    "# Initial Conditions\n",
    "y0 = [10,5]\n",
    "# time span\n",
    "t = np.linspace(0,10,1000)\n",
    "tspan = [t[0],t[-1]]\n",
    "ode_sol = solve_ivp(lambda t,y:TS_dynamics(t,y,alpha_1,alpha_2,beta,gamma),tspan,y0,t_eval=t)\n",
    "# Plot dynamics\n",
    "axs.plot(ode_sol.y[0],ode_sol.y[1],'m',alpha=0.3)\n",
    "axs.plot(ode_sol.y[0][0],ode_sol.y[1][0],'m.',alpha=0.3) #starting point\n",
    "\n",
    "# Plot nullclines\n",
    "axs.plot(u,x,'r')\n",
    "axs.plot(x,v,'b')\n",
    "axs.set_xlabel('u')\n",
    "axs.set_ylabel('v')\n"
   ]
  },
  {
   "cell_type": "markdown",
   "id": "678a472b-f36e-4551-94b7-0623edfe4a26",
   "metadata": {},
   "source": [
    "##### QUESTION 4\n",
    "4. The code above plots the dynamics for an initial condition of $u=10$, $v=5$. Try out a few other initial conditions for this plot.\n",
    "   * a. How many steady states are there?\n",
    "   * b. Explain which steady states are stable and unstable?\n"
   ]
  },
  {
   "cell_type": "code",
   "execution_count": null,
   "id": "5d726d29-ffb7-4fd5-9f24-1ef66c1d5222",
   "metadata": {},
   "outputs": [],
   "source": []
  },
  {
   "cell_type": "markdown",
   "id": "4a2f1a95-13dc-43db-8519-832ec963d0e6",
   "metadata": {},
   "source": [
    "#### Stability Analysis\n",
    "\n",
    "In the paper, we saw that the toggle switch does not function if the $\\alpha$'s are too miss-matched, or if at least one of the repressors does not exhibit ultrasensivity. We will adjust the paramters of the equations and simulate dynamics to explore when the toggle switch architechture does and does not give rise to bistability.\n",
    "\n",
    "Here we will add a new plot that shows the parameters of the system (Figure 2 c, d from the paper). From the paper, we can see that there is an intermediate region of bistability when the $\\alpha$ values fall within a cone that has slopes dictaded by the $\\beta$ and $\\gamma$ values. This region was estimated for high $\\alpha$'s so it is an approximation, but it does a fairly good job of describing when the toggle switch will become bistable.\n",
    "\n",
    "We will approximate the region shown in Figure 2 c, and d, with two lines. The equations for the lines bounding this region are given by:\n",
    "\n",
    "$\\large log(\\alpha_{1})=\\beta *log(\\alpha_{2})$\n",
    "\n",
    "$\\large log(\\alpha_{1})=\\frac{1}{\\gamma} *log(\\alpha_{2})$\n"
   ]
  },
  {
   "cell_type": "code",
   "execution_count": null,
   "id": "95410a26-6533-4109-9f90-ffbc2957ea5a",
   "metadata": {},
   "outputs": [],
   "source": [
    "# Plotting Dynamics\n",
    "beta = 3\n",
    "gamma = beta\n",
    "alpha_2 = 10\n",
    "alpha_1 = alpha_2\n",
    "\n",
    "x_max = 15\n",
    "x = np.linspace(0,x_max,1000)\n",
    "\n",
    "u = alpha_1/(1+x**beta)\n",
    "v = alpha_2/(1+x**gamma)\n",
    "\n",
    "[fig,axs] = plt.subplots(1,2,figsize=[9,4])\n",
    "axs[0].plot(u,x,'r')\n",
    "axs[0].plot(x,v,'b')\n",
    "axs[0].set_xlabel('u')\n",
    "axs[0].set_ylabel('v')\n",
    "axs[0].legend(['du/dt = 0','dv/dt = 0']);\n",
    "\n",
    "# Simulate dynamics\n",
    "for i in range(10):\n",
    "    # Initial Conditions\n",
    "    y0 = 10*np.random.rand(2)\n",
    "    # time span\n",
    "    t = np.linspace(0,10,1000)\n",
    "    tspan = [t[0],t[-1]]\n",
    "    ode_sol = solve_ivp(lambda t,y:TS_dynamics(t,y,alpha_1,alpha_2,beta,gamma),tspan,y0,t_eval=t)\n",
    "    # Plot dynamics\n",
    "    axs[0].plot(ode_sol.y[0],ode_sol.y[1],'m',alpha=0.3)\n",
    "    axs[0].plot(ode_sol.y[0][0],ode_sol.y[1][0],'m.',alpha=0.3)\n",
    "\n",
    "x_max_2 = 10\n",
    "x2 = np.linspace(0,x_max_2,100)\n",
    "y1 = (1/gamma)*x2\n",
    "y2 = (beta)*x2\n",
    "axs[1].plot(x2,y1,'k:')\n",
    "axs[1].plot(x2,y2,'k:')\n",
    "axs[1].plot(np.log(alpha_2),np.log(alpha_1),'r.')\n",
    "axs[1].set_xlabel('log(alpha_2)')\n",
    "axs[1].set_ylabel('log(alpha_1)')\n",
    "axs[1].set_ylim([0,x_max_2])\n",
    "\n"
   ]
  },
  {
   "cell_type": "markdown",
   "id": "8aa5e41a-f5a6-4b08-a0b1-d4cefb6561dd",
   "metadata": {},
   "source": [
    "##### QUESTION 5\n",
    "5. We know from the reading that we need at least one repressor with ultrasensitivity and the $\\alpha$ values to be balance to get bistablity.\n",
    "    * a. Adjust the $\\beta$ and $\\gamma$ parameters to remove the bistability. Include a modified version of the plot above and explain how adjusting $\\beta$ and $\\gamma$ can remove the bistability.\n",
    "    * b. Adjust the $\\alpha$ parameters to remove the bistability. Include a modified version of the plot above and explain how adjusting $\\alpha$ can remove the bistability."
   ]
  },
  {
   "cell_type": "code",
   "execution_count": null,
   "id": "9a14a8a8-4bca-40d9-a070-451a9a04f6a9",
   "metadata": {},
   "outputs": [],
   "source": []
  },
  {
   "cell_type": "markdown",
   "id": "718d045d-8e56-4b43-9989-66d153758c30",
   "metadata": {},
   "source": [
    "## Appendix"
   ]
  },
  {
   "cell_type": "markdown",
   "id": "432ff21d-d179-4b42-b179-df50c3e282f6",
   "metadata": {
    "tags": []
   },
   "source": [
    "### Dimensionless Dynamics Derivation\n",
    "\n",
    "The dynamics of the toggle switch gene circuit system are given in a \"dimensionless\" form:\n",
    "\n",
    "$\\large \\frac{du}{d\\tau}=\\frac{\\alpha_{1}}{(1+v^{\\beta})}-u$\n",
    "\n",
    "$\\large \\frac{dv}{d\\tau}=\\frac{\\alpha_{2}}{(1+u^{\\gamma})}-v$\n",
    "\n",
    "How are these dynamics related to the Hill equation dynamics we saw before? The dynamics for a protein that has a repressor production term and a degradation term were given in the [last paper](https://pubmed.ncbi.nlm.nih.gov/12417193/) as:\n",
    "\n",
    "$\\large \\frac{dx_{2}(t)}{dt}=\\frac{\\beta_{2}}{1+\\frac{x_{2}^{n}}{k^{n}}}-\\alpha x_{2}$ Where $n=1$.\n",
    "\n",
    "We can use this to write the \"dimensional\" equations for the toggle switch, we will use $A$ and $B$ for the degredation and repressor parameters and $U$ and $V$ for the dimensional protein concentrations to avoid confusion from variable overlap:\n",
    "\n",
    "$\\large \\frac{dU}{dt}=\\frac{B_{1}}{(1+\\frac{V^{n_{1}}}{K_{1}^{n_{1}}})}-A_{1} U$\n",
    "\n",
    "$\\large \\frac{dV}{dt}=\\frac{B_{2}}{(1+\\frac{U^{n_{2}}}{K_{2}^{n_{2}}})}-A_{2} V$\n",
    "\n",
    "The units here are:\n",
    "\n",
    "$\\large \\frac{dU}{dt},\\frac{dV}{dt},B_{1},B_{2}: \\frac{concentration}{time}$\n",
    "\n",
    "$\\large U,V,K_{1},K_{2}: concentration$\n",
    "\n",
    "$\\large A_{1},A_{2}: \\frac{1}{time}$\n",
    "\n",
    "To get the dimensionless equations, we will measure time in units of the degredation rate $A$ ($\\tau_{1} = A_{1}*t$, $\\tau_{2} = A_{2}*t$) and we will measure concentration of U and V in units of $\\frac{1}{K}$ ($u = \\frac{U}{K_{2}}, v = \\frac{V}{K_{1}}$). Note that these units are not necessarily the same for the two equations unless we also make the simplifying assumption that $A_{1} = A_{2} = A$ and $K_{1} = K_{2} = K$. Below we will show the derivation of the dimensionless equation for the rate of change of $u$.\n",
    "\n",
    "Using the chain rule, we can get an expression for our new differential equation for $u$ and visa-versa for $v$:\n",
    "\n",
    "$\\large \\frac{du}{d\\tau_{1}} = \\frac{dU}{dt} \\frac{du}{dU} \\frac{dt}{d\\tau_{1}}$\n",
    "\n",
    "We can plug in our differential equation for $\\frac{dU}{dt}$ and solve for the other derivatives from the difinitions of our new variables above:\n",
    "\n",
    "$\\large \\frac{du}{d\\tau_{1}} = (\\frac{B_{1}}{(1+\\frac{V^{n_{1}}}{K_{1}^{n_{1}}})}-A_{1}U)(\\frac{1}{K_{2}})(\\frac{1}{A_{1}})$\n",
    "\n",
    "Substituting in $U=K_{2}u$ and $\\frac{V}{K_{1}} = v$ we get a form of the equation that matches the dimensionless form in the paper:\n",
    "\n",
    "$\\large \\frac{du}{d\\tau_{1}} = (\\frac{B_{1}}{(1+v^{n_{1}})}-A_{1}K_{2}u)(\\frac{1}{K_{2}})(\\frac{1}{A_{1}})$\n",
    "\n",
    "$\\large \\frac{du}{d\\tau_{1}} = \\frac{B_{1}}{A_{1}K_{2}}\\frac{1}{(1+v^{n_{1}})}-u$\n",
    "\n",
    "Comparing the equation above with the dimensionless equations from the paper, we can relate the parameters from the dimensionless equations to the parameters from our more familiar Hill equation form as:\n",
    "\n",
    "$\\beta = n_{1}$\n",
    "\n",
    "$\\gamma = n_{2}$\n",
    "\n",
    "$\\alpha_{1} = \\frac{B_{1}}{A_{1}K_{2}}$\n",
    "\n",
    "$\\alpha_{2} = \\frac{B_{2}}{A_{2}K_{1}}$"
   ]
  },
  {
   "cell_type": "code",
   "execution_count": null,
   "id": "5c974420-cc3b-41de-a274-eaf08ba3e70a",
   "metadata": {},
   "outputs": [],
   "source": []
  }
 ],
 "metadata": {
  "kernelspec": {
   "display_name": "Python 3 (ipykernel)",
   "language": "python",
   "name": "python3"
  },
  "language_info": {
   "codemirror_mode": {
    "name": "ipython",
    "version": 3
   },
   "file_extension": ".py",
   "mimetype": "text/x-python",
   "name": "python",
   "nbconvert_exporter": "python",
   "pygments_lexer": "ipython3",
   "version": "3.13.1"
  }
 },
 "nbformat": 4,
 "nbformat_minor": 5
}
