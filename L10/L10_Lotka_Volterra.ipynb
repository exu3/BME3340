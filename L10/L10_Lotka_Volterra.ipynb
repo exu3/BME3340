{
 "cells": [
  {
   "cell_type": "markdown",
   "id": "05d7d7c7-2d98-4dc0-82ef-0fcc0d08ed35",
   "metadata": {},
   "source": [
    "# L10 Lotka Volterra"
   ]
  },
  {
   "cell_type": "markdown",
   "id": "27ae5c01-649d-4356-aa99-a40cb0c4852f",
   "metadata": {},
   "source": [
    "## Overview\n",
    "\n",
    "The Lotka Volterra model is a phenomenological model that describes the interactions between predator and prey species. It is a simple model with  complex dynamics. Despite its simplicity, the model can help us understand the fluctuations of predator prey systems in nature. Here we will integrate the lotka volterra equations numerically to explore these dynamics and the assumptions of the model."
   ]
  },
  {
   "cell_type": "code",
   "execution_count": null,
   "id": "01992d82-ad52-4cb7-a666-81f89bf4b519",
   "metadata": {},
   "outputs": [],
   "source": [
    "%reset"
   ]
  },
  {
   "cell_type": "code",
   "execution_count": null,
   "id": "19e1f926-935e-43c5-8e7b-a85762aa013f",
   "metadata": {},
   "outputs": [],
   "source": [
    "# Imports\n",
    "import numpy as np\n",
    "import matplotlib.pyplot as plt\n",
    "from scipy.integrate import solve_ivp\n"
   ]
  },
  {
   "cell_type": "markdown",
   "id": "db4f834b-212e-463f-ba50-665109c93b78",
   "metadata": {},
   "source": [
    "### The Lotka Volterra Equations\n",
    "\n",
    "$\\large f_1(x,y) = \\frac{dx}{dt}=ax-bxy$\n",
    "\n",
    "$\\large f_2(x,y) = \\frac{dy}{dt}=-cy+dxy$"
   ]
  },
  {
   "cell_type": "markdown",
   "id": "2ef62121-58e4-41e9-9d17-6fefa03d6267",
   "metadata": {},
   "source": [
    "#### QUESITON 1, 2:\n",
    "1. From the equations above, which species (x, y) is the predator and which is the prey? \n",
    "2. Explain what each of the different parameters (a,b,c,d) represent? \n"
   ]
  },
  {
   "cell_type": "code",
   "execution_count": null,
   "id": "576f679a-b83b-472b-9a62-d6e28c24c902",
   "metadata": {},
   "outputs": [],
   "source": []
  },
  {
   "cell_type": "markdown",
   "id": "d1ef18b5-309e-46a8-90d4-6d494b5aaa95",
   "metadata": {},
   "source": [
    "### Fixed Points\n",
    "From this non-linear equation, we can identify the fixed points (or steady-states) where the rates of change are both equal to 0.\n",
    "\n",
    "$\\large \\frac{dx}{dt}=ax^*-bx^*y^*=0$\n",
    "\n",
    "$\\large \\frac{dy}{dt}=-cy^*+dx^*y^*=0$\n",
    "\n",
    "One trivial solution is $(x^*=0,y^*=0)$, at this point there are no organisms and nothing happens.\n",
    "\n",
    "Another steady state is found by solving the equations above:\n",
    "\n",
    "$ax^*-bx^*y^*=0$\n",
    "\n",
    "$ax^*=bx^*y^*$\n",
    "\n",
    "$\\large y^*=\\frac{a}{b}$\n",
    "\n",
    "$-cy^*+dx^*y^*=0$\n",
    "\n",
    "$dx^*y^*=cy^*$\n",
    "\n",
    "$\\large x^*=\\frac{c}{d}$\n"
   ]
  },
  {
   "cell_type": "markdown",
   "id": "cd0d4251-2e0a-47cf-a42f-20420e864f3a",
   "metadata": {},
   "source": [
    "### Linear Stability Analysis\n",
    "\n",
    "We may be able to see from the equations that the fixed point (0,0) is unstable (it's a saddle point where the dynamics approach the fixed point from the y-axis and move away along the x-axis). For the other, non-trivial, fixed point it is more dificult to determine the stability. We will thus turn to the mathematical formulation of linear stablility analysis.\n",
    "\n",
    "We will linearize the equations around the fixed point and identify the local stability of the points. To do this, we compute the [Jacobian matrix](https://www.youtube.com/watch?v=bohL918kXQk) of the non-linear differential equations, and calculate the eigen values of the Jacobian at the fixed point. If the [eigen values](https://www.youtube.com/watch?v=PFDu9oVAE-g) are all <0 the fixed point is stable.\n",
    "\n",
    "Jacobian Matrix (J)\n",
    "\n",
    "$J = \\begin{pmatrix} \\frac{df_1}{dx} & \\frac{df_1}{dy} \\\\ \\frac{df_2}{dx} & \\frac{df_2}{dy} \\end{pmatrix} = \\begin{pmatrix} a-by & -bx \\\\ dy & -c+dx \\end{pmatrix}$\n",
    "\n",
    "To find the eigen values at the fixed point $(x^*,y^*)$ we set the determinant of the Jacobian minus a constant $\\lambda$ multiplied by the identity matrix equal to 0. Solving for $\\lambda$ gives us the eigen values:\n",
    "\n",
    "$det(J_{x^*,y^*}-\\lambda I)=0$\n",
    "\n",
    "We will evaluate the stability at the non-trival fixed point $(x^*=\\frac{c}{d},y^*=\\frac{a}{b})$:\n",
    "\n",
    "$det \\begin{pmatrix} -\\lambda & \\frac{-bc}{d} \\\\ \\frac{da}{b} & -\\lambda \\end{pmatrix} = 0 $\n",
    "\n",
    "$\\lambda^2 + \\frac{bc}{d} \\frac{da}{b} = 0$\n",
    "\n",
    "$\\lambda^2 = -ac$\n",
    "\n",
    "$\\lambda = \\pm i \\sqrt{ac}$\n",
    "\n",
    "From this analysis we can see that our eign values are purely imaginary. They have real part equal to 0 and imaginary parts going as the square root of the two parameters a and c. The real part being equal to 0 means that this fixed point is neither stable or unstable. It is called \"neutral\", and dynamics will not move towards or away from this fixed point. The imaginary part tells us that these dynamics have some form of rotation with a characteristic frequency:\n",
    "\n",
    "Characteristic frequency $\\omega$:\n",
    "\n",
    "$\\omega = \\sqrt{\\lambda_1 \\lambda_2} = \\sqrt{ac}$\n",
    "\n",
    "Period $T$:\n",
    "\n",
    "$T=\\frac{2\\pi}{\\omega} = \\frac{2pi}{\\sqrt{ac}}$"
   ]
  },
  {
   "cell_type": "markdown",
   "id": "3ac5725f-1b32-4de3-bba2-9d4c3c92fbac",
   "metadata": {},
   "source": [
    "### Numerical Integration\n",
    "\n",
    "Now that we have explored these equations analytically, let's integrate them numerically to better understand what's going on and the assumptions we have made.\n"
   ]
  },
  {
   "cell_type": "code",
   "execution_count": null,
   "id": "1654f6a8-8f43-4da8-97ae-75f2482e8e40",
   "metadata": {},
   "outputs": [],
   "source": [
    "# Define function\n",
    "def LV_dynamics(t,y,a,b,c,d):    \n",
    "    #y = species x, species y\n",
    "    dydt = np.zeros(2)\n",
    "    dydt[0] = a*y[0] - b*y[0]*y[1]\n",
    "    dydt[1] = -c*y[1]+d*y[0]*y[1]\n",
    "    \n",
    "    return dydt"
   ]
  },
  {
   "cell_type": "code",
   "execution_count": null,
   "id": "7c5584d2-ff71-48e2-a79b-50d134043d34",
   "metadata": {},
   "outputs": [],
   "source": [
    "# Simulate Dynamics\n",
    "a = 0.1\n",
    "b = 0.02\n",
    "c = 0.5\n",
    "d = 0.01\n",
    "\n",
    "# Initial Conditions\n",
    "y0 = [10,10]\n",
    "# time span\n",
    "t = np.linspace(0,100,1000)\n",
    "tspan = [t[0],t[-1]]\n",
    "# numerical integration\n",
    "ode_sol = solve_ivp(lambda t,y:LV_dynamics(t,y,a,b,c,d),tspan,y0,t_eval=t)\n",
    "\n",
    "# plot dynamics\n",
    "[fig,axs] = plt.subplots(1,2,figsize=[12,4])\n",
    "axs[0].plot(t,ode_sol.y[0],'k-')\n",
    "axs[0].plot(t,ode_sol.y[1],'r-')\n",
    "axs[0].set_xlabel('time [s]')\n",
    "axs[0].set_ylabel('population density')\n",
    "axs[0].legend(['species 1','species 2'])\n",
    "\n",
    "axs[1].plot(ode_sol.y[0],ode_sol.y[1],'k-');\n",
    "axs[1].set_xlabel('species 1')\n",
    "axs[1].set_ylabel('species 2');\n"
   ]
  },
  {
   "attachments": {},
   "cell_type": "markdown",
   "id": "99e4182b-5f20-4cd2-bd1c-b6da7ae7010f",
   "metadata": {},
   "source": [
    "#### QUESTION 3\n",
    "\n",
    "3. If b and d are 0 (there is not predator prey interaction) what are the dynamics of this system? Hint: you may need to shorten the time window to capture the dynamics.\n",
    "   * a. Include a plot showing the new dynamics (species 1 and 2 plotted against time) in your answer.\n",
    "   * b. Provide a brief explanation of the dynamics\n"
   ]
  },
  {
   "cell_type": "code",
   "execution_count": null,
   "id": "10de6d3f-f6a4-4877-b332-659b90840840",
   "metadata": {},
   "outputs": [],
   "source": []
  },
  {
   "cell_type": "markdown",
   "id": "9966d248-7abf-4b18-baf0-2c76d3534721",
   "metadata": {},
   "source": [
    "### Steady-States\n",
    "\n",
    "In the [Volterra paper](https://www.nature.com/articles/118558a0), this model was used to explain the change in fish populations during WWI. This explanation arose from looking at how the steady-state populations of predator and prey changed as a function of the parameters of the model."
   ]
  },
  {
   "cell_type": "markdown",
   "id": "92bab041-4d7f-4021-9f56-c106c6847dff",
   "metadata": {},
   "source": [
    "#### QUESTION 4:\n",
    "4. Add the steady state values to the two figures in the subplots above (species 1 and 2 vs time and species 1 vs species 2). Include the new figures in your answer.\n",
    "   * a. Add two dotted lines (one for the steady state of each species) on the left figure.\n",
    "   * b. Add and one point on the right figure."
   ]
  },
  {
   "cell_type": "code",
   "execution_count": null,
   "id": "bdc320c8-00cc-48d3-a96a-a7c6edbdd285",
   "metadata": {},
   "outputs": [],
   "source": []
  },
  {
   "cell_type": "markdown",
   "id": "995334fe-6a2c-4b21-9925-2836fa7d5e4e",
   "metadata": {},
   "source": [
    "#### QUESTION 5\n",
    "5. Change the parameters a and c in accordance with the assumptions from the Volterra paper. Assume that the changed parameters represent the wartime scenario.\n",
    "   * a. Explain the changes you make to the parameters in the context of the fishing example given in the Volterra paper.\n",
    "   * c. Explain how the steady state change as these parameters were changed?\n",
    "   * b.  Recreate the plot on the right (species 1 vs species 2) showing the dynamics and steady-states of both systems (original and changed parameters) on the same plot."
   ]
  },
  {
   "cell_type": "code",
   "execution_count": null,
   "id": "202106b5-2773-486f-a1fb-7b356bf393a5",
   "metadata": {},
   "outputs": [],
   "source": []
  },
  {
   "cell_type": "markdown",
   "id": "cfafa6b3-36a8-49b6-9b78-643f896e1456",
   "metadata": {},
   "source": [
    "### BONUS: Oscilation Frequency and Analytical Assumptions\n",
    "\n",
    "Our analysis shows us that the dynamics of the system exhibit neutral cycles with a characteristic period (time per cycle) of $T= \\frac{2pi}{\\sqrt{ac}}$. Let's calculate this value numerically to see how well our analytical finding holds up.\n"
   ]
  },
  {
   "cell_type": "code",
   "execution_count": null,
   "id": "4971b7ad-615c-40bc-878b-5f4f58af67f0",
   "metadata": {},
   "outputs": [],
   "source": [
    "# Simulate Dynamics\n",
    "a = 0.1\n",
    "b = 0.02\n",
    "c = 0.5\n",
    "d = 0.01\n",
    "\n",
    "# Initial Conditions\n",
    "e = 5 #offset from fixed point\n",
    "y0 = [c/d+e,a/b+e]\n",
    "# time span\n",
    "t = np.linspace(0,100,10000)\n",
    "tspan = [t[0],t[-1]]\n",
    "# numerical integration\n",
    "ode_sol = solve_ivp(lambda t,y:LV_dynamics(t,y,a,b,c,d),tspan,y0,t_eval=t)\n",
    "\n",
    "# plot dynamics\n",
    "[fig,axs] = plt.subplots(1,2,figsize=[12,4])\n",
    "axs[0].plot(t,ode_sol.y[0],'k-')\n",
    "axs[0].plot(t,ode_sol.y[1],'r-')\n",
    "axs[0].set_xlabel('time [s]')\n",
    "axs[0].set_ylabel('population density')\n",
    "\n",
    "axs[1].plot(ode_sol.y[0],ode_sol.y[1],'k-');\n",
    "axs[1].set_xlabel('species 1')\n",
    "axs[1].set_ylabel('species 2');\n",
    "\n",
    "# Calculate Period (Time to get back to initial condition)\n",
    "#analytical calculation\n",
    "T_a = 2*np.pi/np.sqrt(a*c)\n",
    "axs[0].plot([T_a,T_a],[0,np.max(ode_sol.y)],'g:');\n",
    "\n",
    "#numerical estimate\n",
    "# calculate distance\n",
    "dist = np.sqrt((ode_sol.y[0]-y0[0])**2+(ode_sol.y[1]-y0[1])**2)\n",
    "# The period occurs at the second local minimum in the distance so we will use that to calculate it.\n",
    "# Note: This may not hold if you change the way the initial conditions are formulated.\n",
    "found1 = 0\n",
    "found2 = 0\n",
    "i = 0\n",
    "while found2 == 0:\n",
    "    i = i + 1\n",
    "    if dist[i]<dist[i-1] and dist[i]<dist[i+1]:#local minimum\n",
    "        if found1 == 0: #first\n",
    "            found1 = 1\n",
    "        else: #second\n",
    "            found2 = 1\n",
    "            index = i\n",
    "T_e = t[index]\n",
    "axs[0].plot([T_e,T_e],[0,np.max(ode_sol.y)],'b:');\n",
    "\n",
    "# Plot distance to check numerical calculation\n",
    "#axs[0].plot(t,dist,'b');\n",
    "\n",
    "axs[0].legend(['species 1','species 2','Analytical T','Numerical T']);\n",
    "print('Analytical T [s]:',np.round(T_a,3))\n",
    "print('Numerical T [s]:',np.round(T_e,3))"
   ]
  },
  {
   "cell_type": "markdown",
   "id": "8dbc1e06-2779-48d9-9567-f1fb0ce5c4c0",
   "metadata": {},
   "source": [
    "We know that the analytical solutions we found are only valid for solutions near the fixed point. We can use the variable e to move the initial condition away from the fixed point and see how the period of the oscilation changes.\n",
    "\n",
    "As the initial point moves further away from the fixed point the period increases and the analytical estimate becomes less and less accurate (it under-estimates the period)."
   ]
  },
  {
   "cell_type": "code",
   "execution_count": null,
   "id": "958af79a-6b50-4dd7-94bb-110e0574933a",
   "metadata": {},
   "outputs": [],
   "source": [
    "[fig,axs] = plt.subplots(3,2,figsize=[12,15])\n",
    "\n",
    "# SOLUTION 6\n",
    "# Simulate Dynamics\n",
    "a = 0.1\n",
    "b = 0.02\n",
    "c = 0.5\n",
    "d = 0.01\n",
    "\n",
    "es = [5,20,50]\n",
    "for p in range(3):\n",
    "    # Initial Conditions\n",
    "    e = es[p] #offset from fixed point\n",
    "    y0 = [c/d+e,a/b+e]\n",
    "    # time span\n",
    "    t = np.linspace(0,100,10000)\n",
    "    tspan = [t[0],t[-1]]\n",
    "    # numerical integration\n",
    "    ode_sol = solve_ivp(lambda t,y:LV_dynamics(t,y,a,b,c,d),tspan,y0,t_eval=t)\n",
    "\n",
    "    # plot dynamics\n",
    "    axs[p,0].plot(t,ode_sol.y[0],'k-')\n",
    "    axs[p,0].plot(t,ode_sol.y[1],'r-')\n",
    "    axs[p,0].set_xlabel('time [s]')\n",
    "    axs[p,0].set_ylabel('population density')\n",
    "\n",
    "    axs[p,1].plot(ode_sol.y[0],ode_sol.y[1],'k-');\n",
    "    axs[p,1].set_xlabel('species 1')\n",
    "    axs[p,1].set_ylabel('species 2');\n",
    "\n",
    "    # Calculate Period (Time to get back to initial condition)\n",
    "    #analytical calculation\n",
    "    T_a = 2*np.pi/np.sqrt(a*c)\n",
    "    axs[p,0].plot([T_a,T_a],[0,np.max(ode_sol.y)],'g:');\n",
    "\n",
    "    #numerical estimate\n",
    "    # calculate distance\n",
    "    dist = np.sqrt((ode_sol.y[0]-y0[0])**2+(ode_sol.y[1]-y0[1])**2)\n",
    "    # The period occurs at the second local minimum in the distance so we will use that to calculate it.\n",
    "    # Note: This may not hold if you change the way the initial conditions are formulated.\n",
    "    found1 = 0\n",
    "    found2 = 0\n",
    "    i = 0\n",
    "    while found2 == 0:\n",
    "        i = i + 1\n",
    "        if dist[i]<dist[i-1] and dist[i]<dist[i+1]:#local minimum\n",
    "            if found1 == 0: #first\n",
    "                found1 = 1\n",
    "            else: #second\n",
    "                found2 = 1\n",
    "                index = i\n",
    "    T_e = t[index]\n",
    "    axs[p,0].plot([T_e,T_e],[0,np.max(ode_sol.y)],'b:');\n",
    "\n",
    "    # Plot distance to check numerical calculation\n",
    "    #axs[0].plot(t,dist,'b');\n",
    "\n",
    "    axs[p,0].legend(['species 1','species 2','Analytical T','Numerical T']);"
   ]
  },
  {
   "cell_type": "code",
   "execution_count": null,
   "id": "c36f6246-e47a-49e2-b864-81b091ff669f",
   "metadata": {},
   "outputs": [],
   "source": []
  }
 ],
 "metadata": {
  "kernelspec": {
   "display_name": "Python 3 (ipykernel)",
   "language": "python",
   "name": "python3"
  },
  "language_info": {
   "codemirror_mode": {
    "name": "ipython",
    "version": 3
   },
   "file_extension": ".py",
   "mimetype": "text/x-python",
   "name": "python",
   "nbconvert_exporter": "python",
   "pygments_lexer": "ipython3",
   "version": "3.13.1"
  }
 },
 "nbformat": 4,
 "nbformat_minor": 5
}
