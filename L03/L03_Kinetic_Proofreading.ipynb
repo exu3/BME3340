{
 "cells": [
  {
   "cell_type": "markdown",
   "metadata": {},
   "source": [
    "# L3: Kinetic Proofreading"
   ]
  },
  {
   "cell_type": "markdown",
   "metadata": {},
   "source": [
    "## Overview\n",
    "\n",
    "There are many systems in biology where a process needs to be completed with high-fidelity. These processes include DNA replication, mRNA translation into proteins, and immune system recognition of infectious molecules. Conceptually, these processes can often be described based on the process of some protein binding some substrate (another protein or a metabolite). Biological systems can tune their specificity for these processes by binding the target substrate with a higher affinity than the off target substrate. However, this difference in affinity is typically not great enough to provide the necessary specificity. To decrease the error rate of these processes it has been hypothesized that biological systems could employ a \"proofreading\" step where they check to make sure the correct substrate is bound. Hopfield [1974] proposed a molecular mechanism for such proof reading and developed a simple model for how it could work based on the kinetics of chemical reactions.\n",
    "\n",
    "In this notebook, we will review some of the key assumptions made by Hopfield in the original paper. We will then implement a dynamical model of the kinetic proofreading scheme and tune the parameters to better understand the conditions that lead to improvements in error rate."
   ]
  },
  {
   "cell_type": "code",
   "execution_count": null,
   "metadata": {},
   "outputs": [],
   "source": [
    "%reset\n",
    "# this command will reset all of the variables in your notebook. \n",
    "# After you run this cell you will need to type y and then hit enter"
   ]
  },
  {
   "cell_type": "code",
   "execution_count": null,
   "metadata": {},
   "outputs": [],
   "source": [
    "# Imports\n",
    "import numpy as np\n",
    "from scipy.integrate import solve_ivp\n",
    "import matplotlib.pyplot as plt"
   ]
  },
  {
   "cell_type": "markdown",
   "metadata": {},
   "source": [
    "### Introduction\n",
    "\n",
    "The Hopfield paper starts with a motivational statement that errors in biological systems are observed at very low rates. 1 in 10<sup>4</sup> for protein translation or 1 in 10<sup>9</sup> for DNA replication. This is in stark contrast to the error rate that can be acheived simply from the equilibrium binding of the relevant substrates for these processes. This equilibrium based error rate can be estimated from the thermodynamic properties of the two substrates.\n",
    "\n",
    "Given two substrates $C$ and $D$ where $C$ is the correct substrate. The thermodynamic equilibrium binding of the system can be described by $\\Delta G_{CD}$ which is the difference in the Gibbs free energy of C binding v.s. D binding. The error rate can then be caclulated as the equilibrium concentrations of the binding process $f = exp(-\\Delta G_{CD}/RT)$. Where $R$ is the gas constant and $T$ is the temperature. For a more in depth discussion of the relationship between thermodynamics and equilibrium concentrations review Klipp 4.1.3.\n",
    "\n",
    "From this equation, $f = exp(-\\Delta G_{CD}/RT)$, Hopfield estimates that the Gibbs free energy difference $\\Delta G_{CD}$ required to acheive the necessary error rate would be around 5.5 kcal or 23 kJ. This calculation can be made for different error rates by solving for $\\Delta G_{CD}$.\n",
    "\n",
    "$\\Delta G_{CD}=-ln(f)*RT$\n",
    "\n",
    "Below, we will use a code cell to implement this calculation. To see if we get the same result as Hopfield."
   ]
  },
  {
   "cell_type": "code",
   "execution_count": null,
   "metadata": {},
   "outputs": [],
   "source": [
    "f = 1/10**4 # error rate\n",
    "R = 8.3145 # J/(mol*K) the ideal gas constant\n",
    "T = 298 # K room temperature in Kelvin\n",
    "\n",
    "Delta_G_CD = -1*np.log(f)*R*T/1000 #required free energy difference (kJ/mol)\n",
    "\n",
    "# convert to kcal\n",
    "Delta_G_CD_kcal = Delta_G_CD*0.239\n",
    "\n",
    "print('Error Rate:',f,'; Free Energy Difference:',np.round(Delta_G_CD,3),'kJ per mol, ',np.round(Delta_G_CD_kcal,3),'kcal per mol')"
   ]
  },
  {
   "cell_type": "markdown",
   "metadata": {},
   "source": [
    "#### QUESTIONS 1, 2:\n",
    "\n",
    "Let's implement this calculation for different error rates, to see what the necesarry difference in Gibbs free energy would be. One biological system that utilizes kinetic proofreading is the immune system. T-cell receptors use this process to improve the specificity with which they identify foreign antigens (Alon section 9.3). In this system T-cells have an error rate of recognizing self from non-self less than 10<sup>-6</sup>, although the foriegn antigen often has only 10 times higher affinity for the receptor than the self-proteins. Thus at equilibrium the error rate would theoretically only be 1/10.\n",
    "\n",
    "1. Given a theoretical equilibrium error rate of 1/10, what is the corresponding $\\Delta G_{CD}$ between the target and non-target substrates? This is the actual $\\Delta G_{CD}$ of the system.\n",
    "2. If the system were to achieve an error rate of 10<sup>-6</sup> and recognition was based only on equilibrium dynamics (no kinetic proofreading) what would the required $\\Delta G_{CD}$ be?\n",
    "\n"
   ]
  },
  {
   "cell_type": "code",
   "execution_count": null,
   "metadata": {},
   "outputs": [],
   "source": []
  },
  {
   "cell_type": "markdown",
   "metadata": {},
   "source": [
    "### The Michaelis Menten Kinetics Model\n",
    "\n",
    "The Hopfield kinteic proofreading framework starts with the familiar Michaelis Menten schematic:\n",
    "\n",
    "$C + c \\underset{k_{C}}{\\overset{k'_{C}}{\\rightleftharpoons}} Cc \\overset{W}{\\rightharpoonup} product$\n",
    "\n",
    "$D + c \\underset{k_{D}}{\\overset{k'_{D}}{\\rightleftharpoons}} Dc \\overset{W}{\\rightharpoonup} product$\n",
    "\n",
    "Where C or D are the correct and incorrect substrates. Hopfield further simplifies this model by assuming that the enzyme acts on C and D with the same rate $W$, and that the on rates for C and D are the same $k'_{C}=k'_{D}$. Thus, any discrimination between the two is entirely dependent on the off rates $k_{C}$ and $k_{D}$.\n",
    "\n",
    "Derivation of Michaelis Menten error rate ($f$):\n",
    "\n",
    "$\\frac{d[cC]}{dt} = [c][C]k'_{C}-[Cc]k_{C}-[Cc]W=0$ (quasi steady-state approximation)\n",
    "\n",
    "$[Cc] = \\frac{[C][c]k'_{C}}{k_{C}+W}$\n",
    "\n",
    "$[Dc] = \\frac{[D][c]k'_{D}}{k_{D}+W}$\n",
    "\n",
    "note that $[c]$ can cancel out here so we don't need to envoke the total enzyme constraint from our Michaelis Menten derivation.\n",
    "\n",
    "$\\frac{dP_{C}}{dt} = [Cc]W$\n",
    "\n",
    "$f = \\frac{\\frac{dP_{D}}{dt}}{\\frac{dP_{C}}{dt}} = \\frac{\\frac{[D][c]k'_{D}}{k_{D}+W}*W}{\\frac{[C][c]k'_{C}}{k_{C}+W}*W}$\n",
    "\n",
    "$k'_{D}=k'_{C}$ assume equivalent on-rates\n",
    "\n",
    "$f = \\frac{[D](k_{C}+W)}{[C](k_{D}+W)}$ simplified\n",
    "\n",
    "HopfielD further assumes that the two substrates are in equal concentration: $[D]=[C]$ to get the equation for the error rate with Michaelis Menten kinteics presented in the paper:\n",
    "\n",
    "$f = \\frac{(k_{C}+W)}{(k_{D}+W)}$\n"
   ]
  },
  {
   "cell_type": "markdown",
   "metadata": {},
   "source": [
    "#### QUESTION 3:\n",
    "\n",
    "3. The error rate includes the rate of product formation or speed ($W$) also referred to as the $K_{cat}$ in typical Michaelis Menten kinetics. Through this term, the equation above tells us about the relationship between speed and error rate.\n",
    "    * a. What is the error rate as $W$ goes to infinity?\n",
    "    * b. What is the error rate as $W$ goes to 0?\n",
    "    * c. Include a plot of error rate $f$ as a function of $W$ to illustrate your answers. Plot the speed $W$ on a log scale. Make sure you define $k_C$ and $k_D$ such that the correct substrate has lower off rate.\n",
    "\n",
    "Hint: To define and plot $W$ on a log scale you can use the numpy command np.logspace to generate a sequential vector in a log base 10 space and pyplot command plt.xscale('log') to set the x axis to a log scale."
   ]
  },
  {
   "cell_type": "code",
   "execution_count": null,
   "metadata": {},
   "outputs": [],
   "source": []
  },
  {
   "attachments": {
    "21e562ce-a667-4fa4-a47e-1c7201b44c2e.png": {
     "image/png": "[encoded data removed]"
    }
   },
   "cell_type": "markdown",
   "metadata": {
    "tags": []
   },
   "source": [
    "### The Kinetic Proofreading Model\n",
    "\n",
    "Hopfield introduced a kinetic model for how a system of enzymes could function (out of equilibrium) to acheive a proof-reading mechanism. The basic idea is that energy is input into the system to \"reset\" the discriminatory power of the difference in equilibrium binding. Theoretically, this mechanism can lead to decreases in error rate from $f$ to $f^{2}$, with even further theoretical increases up to $f^{n}$ if n proofreading steps are implemented.\n",
    "\n",
    "Hopfield sets up the following reaction scheme:\n",
    "\n",
    "![Screen Shot 2023-01-23 at 3.31.31 PM.png](attachment:21e562ce-a667-4fa4-a47e-1c7201b44c2e.png)\n",
    "\n",
    "Below we will develop the general differential equations modeling this system and implement numerical simulations to explore their properties."
   ]
  },
  {
   "cell_type": "code",
   "execution_count": null,
   "metadata": {},
   "outputs": [],
   "source": [
    "# Differential Equations for Kinetic Proofreading Scheme\n",
    "\n",
    "def KP_dynamics(t,y,kC_on,kC_off,kD_on,kD_off,mC,mC_r,mD,mD_r,lC_on,lC_off,lD_on,lD_off,w,w_r,c_total):\n",
    "    #y[0] = [C] correct substrate\n",
    "    #y[1] = [D] incorrect substrate\n",
    "    #y[2] = [Cc] correct enzyme substrate complex\n",
    "    #y[3] = [Dc] incorrect enzyme substrate complex\n",
    "    #y[4] = [Cc*] correct enzyme substrate complex *modified\n",
    "    #y[5] = [Dc*] incorrect enzyme substrate complex *modified\n",
    "    #y[6] = [PC] correct product\n",
    "    #y[7] = [PD] incorrect product\n",
    "    \n",
    "    # c = c_total - (Cc + Dc + Cc* + Dc*)\n",
    "    \n",
    "    dydt = np.zeros(8)    \n",
    "    \n",
    "    # constant concentrations of substrates\n",
    "    dydt[0] = 0\n",
    "    dydt[1] = 0\n",
    "    # for a batch simulation with dynamics on the substrate concentrations use the following:\n",
    "    #dydt[0] = y[2]*kC_off + y[4]*lC_off - y[0]*(c_total-(y[2]+y[3]+y[4]+y[5]))*(kC_on+lC_on)\n",
    "    #dydt[1] = y[3]*kD_off + y[5]*lD_off - y[1]*(c_total-(y[2]+y[3]+y[4]+y[5]))*(kD_on+lD_on)\n",
    "    \n",
    "    dydt[2] = y[0]*(c_total-(y[2]+y[3]+y[4]+y[5]))*kC_on + y[4]*mC_r - y[2]*(kC_off+mC)\n",
    "    dydt[3] = y[1]*(c_total-(y[2]+y[3]+y[4]+y[5]))*kD_on + y[5]*mD_r - y[3]*(kD_off+mD)\n",
    "    dydt[4] = y[0]*(c_total-(y[2]+y[3]+y[4]+y[5]))*lC_on + y[2]*mC + y[6]*w_r - y[4]*(mC_r+lC_off+w)\n",
    "    dydt[5] = y[1]*(c_total-(y[2]+y[3]+y[4]+y[5]))*lD_on + y[3]*mD + y[7]*w_r - y[5]*(mD_r+lD_off+w)\n",
    "    dydt[6] = y[4]*w - y[6]*w_r\n",
    "    dydt[7] = y[5]*w - y[7]*w_r\n",
    "    \n",
    "    return dydt"
   ]
  },
  {
   "cell_type": "markdown",
   "metadata": {},
   "source": [
    "At equilibrium the parameters are constrained by equation 6 of Hopfield et al. The parameters are defined below with several simplifying assumptions and this constraint taken into consideration. The following code will then simulate the dynamics of the resulting kinetic system."
   ]
  },
  {
   "cell_type": "code",
   "execution_count": null,
   "metadata": {},
   "outputs": [],
   "source": [
    "# Parameters\n",
    "kC_on = 1\n",
    "kC_off = 1\n",
    "kD_on = kC_on #equal on-rate assumption\n",
    "kD_off = 4\n",
    "lC_on = kC_on #for simplicity\n",
    "lC_off = kC_off #for simplicity\n",
    "lD_on = lC_on #equal on-rate assumption\n",
    "lD_off = kD_off #for simplicity\n",
    "mC = 1\n",
    "mC_r = mC*(kC_on*lC_off)/(kC_off*lC_on) #equlibrium constraint from Hopfield equation 6\n",
    "mD = mC\n",
    "mD_r = mC_r\n",
    "w = 1\n",
    "w_r = 0\n",
    "c_total = 0.1 #total enzyme\n",
    "\n",
    "# Initial Conditions\n",
    "C0 = 10 # Initial C\n",
    "D0 = 10 # Initial D\n",
    "y0 = [C0,D0,0,0,0,0,0,0]\n",
    "\n",
    "# time span\n",
    "t = np.linspace(0,10,1000)\n",
    "tspan = [t[0],t[-1]]\n",
    "\n",
    "# Solve\n",
    "ode_sol = solve_ivp(lambda t,y:KP_dynamics(t,y,kC_on,kC_off,kD_on,kD_off,mC,mC_r,mD,mD_r,lC_on,lC_off,lD_on,lD_off,w,w_r,c_total),tspan,y0,t_eval=t)\n",
    "\n",
    "# Plot\n",
    "fig,axs = plt.subplots(2,2,figsize=(10, 10))\n",
    "\n",
    "axs[0,0].set_title('Substrates')\n",
    "axs[0,0].plot(t,ode_sol.y[0],'b-')\n",
    "axs[0,0].plot(t,ode_sol.y[1],'r--')\n",
    "axs[0,0].set_xlabel('time')\n",
    "axs[0,0].set_ylabel('concentration')\n",
    "axs[0,0].legend(['correct substrate (C)','incorrect substrate (D)']);\n",
    "\n",
    "axs[0,1].set_title('Enzyme Substrate Complexes')\n",
    "axs[0,1].plot(t,ode_sol.y[2],'b-')\n",
    "axs[0,1].plot(t,ode_sol.y[3],'r-')\n",
    "axs[0,1].plot(t,ode_sol.y[4],'b--')\n",
    "axs[0,1].plot(t,ode_sol.y[5],'r--')\n",
    "axs[0,1].set_xlabel('time')\n",
    "axs[0,1].set_ylabel('concentration')\n",
    "axs[0,1].legend(['Cc','Dc','Cc*','Dc*']);\n",
    "\n",
    "axs[1,0].set_title('Products')\n",
    "axs[1,0].plot(t,ode_sol.y[6],'b:')\n",
    "axs[1,0].plot(t,ode_sol.y[7],'r:')\n",
    "axs[1,0].set_xlabel('time')\n",
    "axs[1,0].set_ylabel('concentration')\n",
    "axs[1,0].legend(['PC','PD']);\n",
    "\n",
    "axs[1,1].set_title('Error Rate')\n",
    "st = 1\n",
    "dPCdt = ode_sol.y[4]*w - ode_sol.y[6]*w_r\n",
    "dPDdt = ode_sol.y[5]*w - ode_sol.y[7]*w_r\n",
    "f = dPDdt/dPCdt\n",
    "axs[1,1].plot(t[st:],f[st:],'k')\n",
    "axs[1,1].set_xlabel('time')\n",
    "axs[1,1].set_ylabel('error rate')\n",
    "\n",
    "# theoretical minimum error rate at equilibrium\n",
    "f_MM_limit = (D0*kC_off)/(C0*kD_off)\n",
    "axs[1,1].plot([t[st],t[-1]],[f_MM_limit,f_MM_limit],'b:')\n",
    "axs[1,1].legend(['error rate','equilibrium limit']);"
   ]
  },
  {
   "cell_type": "markdown",
   "metadata": {},
   "source": [
    "### Adjust the Speed\n",
    "\n",
    "#### QUESTION 4:\n",
    "4. Copy the code above and adjust the speed of the reaction by changing the parameter w. Note: do not change the parameter w_r from 0 or the reaction will reach complete equilibrium making the error rate calculation impossible. Try running the simulation for several different speeds and briefly describe how the speed impacts the final error rate."
   ]
  },
  {
   "cell_type": "code",
   "execution_count": null,
   "metadata": {},
   "outputs": [],
   "source": []
  },
  {
   "attachments": {
    "a02ceda6-84e0-4861-91d0-7bd5d5579289.png": {
     "image/png": "[encoded data removed]"
    }
   },
   "cell_type": "markdown",
   "metadata": {},
   "source": [
    "### Just Add Energy\n",
    "\n",
    "Hopfield makes the argument that energy is required for this system to drive error rates below the equilibrium limit. The error rate can be improved by adding energy to selected steps in the kinetic scheme and driving them forward (without any regard to the correct or incorrect substrates!). This energy is generally coupled to reaction 2 and under the ideal Kinetic Proofreading reacting scheme both reaction 2 and 3 are coupled to an energy source making them essentially irreversible. The resulting reaction scheme is presented below.\n",
    "\n",
    "![Screenshot 2024-01-30 at 3.25.04 PM.png](attachment:a02ceda6-84e0-4861-91d0-7bd5d5579289.png)\n",
    "\n",
    "In this kinetic proofreading scheme the error rate is given by:\n",
    "\n",
    "$f = \\frac{[D](k_{C}+m')(l_{C}+W)}{[C](k_{D}+m')(l_{D}+W)}$\n",
    "\n",
    "The theoretical kinetic profreading error rate limit is reached when both $W=0$ and $m'=0$ given as:\n",
    "\n",
    "$f = \\frac{[D](k_{C})(l_{C})}{[C](k_{D})(l_{D})}$\n",
    "\n",
    "#### QUESTIONS 5 and 6:\n",
    "\n",
    "5. Adapt the code above and modify the parameters to match the ideal proofreading scheme (making steps 2 and 3 irreversible). Hint: Only change the parameters associated with the reversibility of steps 2 and 3. Generate a new plot of the error rate and add a horizontal line indicating the kinetic proofreading error rate limit. Provide your new error rate plot (you may provide all 4 of the plots above or just the error rate plot). Briefly describe your results and the adjustments you made.\n",
    "\n",
    "6. It may be difficult for cells to make the binding and unbinding step 3 irreversible given that the complexs Cc and Cc* would be relatively similar. Reset the parameters for step 3 to be the same as those for step 1 (as they are in the original simulation). Adjust the speed of the reaction by changing the paramters mC, mC_r and w (Note: you must also keep mD=mC and mD_r=mC_r, and parameters can not be made negative). Under these conditions, what are values of the 3 parameters (mC, mC_r and w) that gets the error rate below the equilibrium limit?"
   ]
  },
  {
   "cell_type": "code",
   "execution_count": null,
   "metadata": {},
   "outputs": [],
   "source": []
  }
 ],
 "metadata": {
  "kernelspec": {
   "display_name": "Python 3 (ipykernel)",
   "language": "python",
   "name": "python3"
  },
  "language_info": {
   "codemirror_mode": {
    "name": "ipython",
    "version": 3
   },
   "file_extension": ".py",
   "mimetype": "text/x-python",
   "name": "python",
   "nbconvert_exporter": "python",
   "pygments_lexer": "ipython3",
   "version": "3.13.1"
  }
 },
 "nbformat": 4,
 "nbformat_minor": 4
}
