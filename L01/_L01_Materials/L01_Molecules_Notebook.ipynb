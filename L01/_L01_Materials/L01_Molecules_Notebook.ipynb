{
 "cells": [
  {
   "cell_type": "markdown",
   "metadata": {},
   "source": [
    "# L1: Molecules, Protein Structure\n"
   ]
  },
  {
   "cell_type": "markdown",
   "metadata": {},
   "source": [
    "## Overview\n",
    "\n",
    "Our goal is to introduce the notebook style of this course and to build familiarity with protein structure and sequence files while gaining  intuition into the utility of protein structures. In part 1, we will visualize protein structures and determine if we can say anything about the protein's function. In part 2, we will then search for the proteins using their amino acid sequence to check their actual function. \n",
    "\n",
    "In this notebook we will take a look at several protein structures. These structures were predicted automatically from alphafold and were downloaded from the [AlphaFold database](https://alphafold.ebi.ac.uk/).\n",
    "\n",
    "There are two types of files that we will work with here (.pdb and .fasta files). Both of these files are plain text files (you can open them in any text editor). Each file has a standard format for the information it represents.\n",
    "* .pdb files: protein structure, this file specifies the coordinates of each atom in each amino acid of the protein\n",
    "* .fasta files: protein sequence, this file lists the amino acid sequence of the protein (Note: .fasta files can contain either amino acid or nucleotide sequences)\n",
    "\n",
    "We will first load the .pdb files and visulaize the protein structures. Next we will load the .fasta files and search the NCBI database via BLAST to identify the protein."
   ]
  },
  {
   "cell_type": "code",
   "execution_count": 1,
   "metadata": {},
   "outputs": [
    {
     "data": {
      "application/vnd.jupyter.widget-view+json": {
       "model_id": "8fddfe2c618b45be81cb6c3f0b6baa6e",
       "version_major": 2,
       "version_minor": 0
      },
      "text/plain": []
     },
     "metadata": {},
     "output_type": "display_data"
    }
   ],
   "source": [
    "# Imports\n",
    "# part 1\n",
    "import nglview as nv\n",
    "# part 2\n",
    "from Bio import SeqIO\n",
    "from Bio.Blast import NCBIWWW\n",
    "from Bio.Blast import NCBIXML"
   ]
  },
  {
   "cell_type": "markdown",
   "metadata": {},
   "source": [
    "## Part 1: Visualize Structures\n",
    "\n",
    "In this section we will load and visualize the protein structure files. Replace the text \"ENTER FILE NAME HERE\" with the name of each of the protein .pdb files and run the code block. Once the visualization is generated, you can click and drag to spin the protein around and scroll to zoom in and out. Copy the code block and repeat this for each of the protein files.\n",
    "\n",
    "Here we are using a simple approach to view the proteins with the nglview package. There are many more sophisticated tools that allow you to visualize proteins and run analyses on them such as \"molecular docking\". If you are interested in exploring protein structure analysis further a popular and more powerful software tool is [pymol](https://pymol.org/2/).\n",
    "\n",
    "Note: in google chrome you need to make sure that the \"hardware acceleration\" option is enabled for this viewer to work. (settings -> system -> Use hardware acceleration when available)"
   ]
  },
  {
   "cell_type": "code",
   "execution_count": 11,
   "metadata": {},
   "outputs": [
    {
     "data": {
      "application/vnd.jupyter.widget-view+json": {
       "model_id": "1d1fbb33f371443085254ceda7d23ddb",
       "version_major": 2,
       "version_minor": 0
      },
      "text/plain": [
       "NGLWidget()"
      ]
     },
     "metadata": {},
     "output_type": "display_data"
    }
   ],
   "source": [
    "file = \"P1_Structure.pdb\"\n",
    "\n",
    "view = nv.show_file(file)\n",
    "view"
   ]
  },
  {
   "cell_type": "code",
   "execution_count": 12,
   "metadata": {},
   "outputs": [
    {
     "data": {
      "application/vnd.jupyter.widget-view+json": {
       "model_id": "b24e473ba1f8424fb912450d8b8d8c72",
       "version_major": 2,
       "version_minor": 0
      },
      "text/plain": [
       "NGLWidget()"
      ]
     },
     "metadata": {},
     "output_type": "display_data"
    }
   ],
   "source": [
    "file = \"P2_Structure.pdb\"\n",
    "\n",
    "view = nv.show_file(file)\n",
    "view"
   ]
  },
  {
   "cell_type": "code",
   "execution_count": 15,
   "metadata": {},
   "outputs": [
    {
     "data": {
      "application/vnd.jupyter.widget-view+json": {
       "model_id": "23f7909b2823490fb6991939eba08fe2",
       "version_major": 2,
       "version_minor": 0
      },
      "text/plain": [
       "NGLWidget()"
      ]
     },
     "metadata": {},
     "output_type": "display_data"
    }
   ],
   "source": [
    "file = \"P3_Structure.pdb\"\n",
    "\n",
    "view = nv.show_file(file)\n",
    "view"
   ]
  },
  {
   "cell_type": "code",
   "execution_count": 13,
   "metadata": {},
   "outputs": [
    {
     "data": {
      "application/vnd.jupyter.widget-view+json": {
       "model_id": "a3171c1c0ce640b796e9801c18aad973",
       "version_major": 2,
       "version_minor": 0
      },
      "text/plain": [
       "NGLWidget()"
      ]
     },
     "metadata": {},
     "output_type": "display_data"
    }
   ],
   "source": [
    "file = \"P4_Structure.pdb\"\n",
    "\n",
    "view = nv.show_file(file)\n",
    "view"
   ]
  },
  {
   "cell_type": "code",
   "execution_count": 14,
   "metadata": {},
   "outputs": [
    {
     "data": {
      "application/vnd.jupyter.widget-view+json": {
       "model_id": "dcc0715f643649d8ac193e753e52aca9",
       "version_major": 2,
       "version_minor": 0
      },
      "text/plain": [
       "NGLWidget()"
      ]
     },
     "metadata": {},
     "output_type": "display_data"
    }
   ],
   "source": [
    "file = \"P5_Structure.pdb\"\n",
    "\n",
    "view = nv.show_file(file)\n",
    "view"
   ]
  },
  {
   "cell_type": "markdown",
   "metadata": {},
   "source": [
    "### QUESTIONS: \n",
    "\n",
    "1. After viewing each protein write down a hypothesis for what you think the function of that protein may be (hint: it's okay if you have no idea, just make something up that seems plausible)\n",
    "2. Are there any features of the structures that stand out? Do you notice any consistent structures across proteins?"
   ]
  },
  {
   "cell_type": "markdown",
   "metadata": {},
   "source": [
    "## Part 2: Search Sequences\n",
    "\n",
    "Here we will use the biopython implementation of of the NCBI BLAST web server (Bio.Blast.NCBIWWW) to search for our sequence in the ncbi database. BLAST (Basic Local ALignment Search Tool) is a bioinformatics tool that aligns sequences with each other to find matches. \n",
    "\n",
    "For our sequences we should be able to find very good (if not exact) matches. We will load our sequence and use the \"blastp\" program and the \"nr\" database to align our sequence to the NCBI non-redundant database of protein sequences. We will search until we find 10 total matches. We will save our BLAST results as an .xml file and then load them and print out all of the matches below a specified e-value. The e-value is a representation of how likely a given match would be expected by chance.\n",
    "\n",
    "Run this part of the notebook and answer the questions for at least one of the proteins by setting the protein_name variable."
   ]
  },
  {
   "cell_type": "code",
   "execution_count": 7,
   "metadata": {},
   "outputs": [],
   "source": [
    "# Load Sequence File\n",
    "protein_name = \"P1\"\n",
    "protein_sequence = SeqIO.read(protein_name+\"_Sequence.fasta\",format=\"fasta\")"
   ]
  },
  {
   "cell_type": "code",
   "execution_count": 8,
   "metadata": {},
   "outputs": [],
   "source": [
    "# Run BLAST (this will take several minutes to run)\n",
    "blast_result = NCBIWWW.qblast(\"blastp\",\"nr\",protein_sequence.seq,hitlist_size=10)"
   ]
  },
  {
   "cell_type": "code",
   "execution_count": 9,
   "metadata": {},
   "outputs": [],
   "source": [
    "# Save BLAST results\n",
    "result_file = open(protein_name+\"_blast.xml\",\"w\")\n",
    "result_file.write(blast_result.read())\n",
    "result_file.close()\n",
    "blast_result.close()"
   ]
  },
  {
   "cell_type": "code",
   "execution_count": 10,
   "metadata": {
    "tags": []
   },
   "outputs": [
    {
     "name": "stdout",
     "output_type": "stream",
     "text": [
      "\n",
      "\n",
      "match: ref|WP_000170339.1| glucokinase [Escherichia albertii] >gb|EFZ2303342.1| glucokinase [Shigella boydii] >gb|AHE61450.1| glucokinase [Escherichia albertii KF1] >gb|AUS66356.1| glucokinase [Escherichia albertii] >gb|EAB1452419.1| glucokinase [Escherichia albertii] >gb|EDS92476.1| glucokinase [Escherichia albertii TW07627] \n",
      "0.0\n",
      "\n",
      "\n",
      "match: gb|MCZ8700358.1| glucokinase [Escherichia albertii] \n",
      "0.0\n",
      "\n",
      "\n",
      "match: ref|WP_113623213.1| glucokinase [Escherichia albertii] >gb|EEW0112471.1| glucokinase [Escherichia albertii] >gb|EFB7458226.1| glucokinase [Escherichia albertii] >gb|EFO4719699.1| glucokinase [Escherichia albertii] >gb|MCE7716207.1| glucokinase [Escherichia albertii] >gb|MCZ8599115.1| glucokinase [Escherichia albertii] \n",
      "0.0\n",
      "\n",
      "\n",
      "match: ref|WP_059218301.1| glucokinase [Escherichia albertii] >gb|WDB49009.1| glucokinase [Escherichia albertii] \n",
      "0.0\n",
      "\n",
      "\n",
      "match: gb|EJJ6388920.1| glucokinase [Escherichia albertii] >gb|EJZ0948492.1| glucokinase [Escherichia albertii] >gb|EKB0154155.1| glucokinase [Escherichia albertii] >gb|MCZ9116407.1| glucokinase [Escherichia albertii] >gb|MCZ9194648.1| glucokinase [Escherichia albertii] \n",
      "0.0\n",
      "\n",
      "\n",
      "match: gb|MCZ9232890.1| glucokinase [Escherichia albertii] \n",
      "0.0\n",
      "\n",
      "\n",
      "match: ref|WP_262938251.1| glucokinase [Escherichia albertii] >gb|MCU7293904.1| glucokinase [Escherichia albertii] >gb|MCZ8921580.1| glucokinase [Escherichia albertii] >gb|MCZ9152945.1| glucokinase [Escherichia albertii] >gb|MCZ9162740.1| glucokinase [Escherichia albertii] >gb|MCZ9219122.1| glucokinase [Escherichia albertii] \n",
      "0.0\n",
      "\n",
      "\n",
      "match: ref|WP_273812957.1| glucokinase [Escherichia albertii] >gb|WDC03414.1| glucokinase [Escherichia albertii] \n",
      "0.0\n",
      "\n",
      "\n",
      "match: ref|WP_000170338.1| glucokinase [Escherichia albertii] >gb|EFX6074865.1| glucokinase [Shigella boydii] >gb|MCZ8624113.1| glucokinase [Escherichia albertii] >gb|MCZ8765079.1| glucokinase [Escherichia albertii] >gb|MCZ8868839.1| glucokinase [Escherichia albertii] >gb|MCZ8891441.1| glucokinase [Escherichia albertii] \n",
      "0.0\n",
      "\n",
      "\n",
      "match: ref|WP_059214429.1| glucokinase [Escherichia albertii] \n",
      "0.0\n"
     ]
    }
   ],
   "source": [
    "# Print out BLAST matches with E-value below a given threshold\n",
    "E_VALUE_THRESH = 1e-20\n",
    "for record in NCBIXML.parse(open(protein_name+\"_blast.xml\")):\n",
    "    if record.alignments:\n",
    "        for align in record.alignments: \n",
    "            for hsp in align.hsps: \n",
    "                #if hsp.expect < E_VALUE_THRESH\n",
    "                print(f\"\\n\")\n",
    "                print(\"match: %s \" % align.title)\n",
    "                print(hsp.expect)"
   ]
  },
  {
   "cell_type": "markdown",
   "metadata": {},
   "source": [
    "### QUESTIONS:\n",
    "\n",
    "3. From the top BLAST matches identify the name of your protein and which organism it likely came from.\n",
    "4. Now that you know the name and organism of your protein, look online and provide a brief description of the function of this protein. UniProt is a good database of protein information to try searching. https://www.uniprot.org/"
   ]
  },
  {
   "cell_type": "code",
   "execution_count": null,
   "metadata": {},
   "outputs": [],
   "source": []
  }
 ],
 "metadata": {
  "kernelspec": {
   "display_name": "Python 3 (ipykernel)",
   "language": "python",
   "name": "python3"
  },
  "language_info": {
   "codemirror_mode": {
    "name": "ipython",
    "version": 3
   },
   "file_extension": ".py",
   "mimetype": "text/x-python",
   "name": "python",
   "nbconvert_exporter": "python",
   "pygments_lexer": "ipython3",
   "version": "3.12.8"
  }
 },
 "nbformat": 4,
 "nbformat_minor": 4
}
