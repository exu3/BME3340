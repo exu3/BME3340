{
 "cells": [
  {
   "cell_type": "markdown",
   "metadata": {},
   "source": [
    "# L2: Molecules, Protein Structure\n"
   ]
  },
  {
   "cell_type": "markdown",
   "metadata": {},
   "source": [
    "## Overview\n",
    "\n",
    "Our goal is to introduce the notebook style of this course and to build familiarity with protein structure and sequence files while gaining  intuition into the utility of protein structures. In part 1, we will visualize protein structures and determine if we can say anything about the protein's function. In part 2, we will then search for the proteins using their amino acid sequence to check their actual function. \n",
    "\n",
    "In this notebook we will take a look at several protein structures. These structures were predicted automatically from alphafold and were downloaded from the [AlphaFold database](https://alphafold.ebi.ac.uk/).\n",
    "\n",
    "There are two types of files that we will work with here (.pdb and .fasta files). Both of these files are plain text files (you can open them in any text editor). Each file has a standard format for the information it represents.\n",
    "* .pdb files: protein structure, this file specifies the coordinates of each atom in each amino acid of the protein\n",
    "* .fasta files: protein sequence, this file lists the amino acid sequence of the protein (Note: .fasta files can contain either amino acid or nucleotide sequences)\n",
    "\n",
    "We will first load the .pdb files and visulaize the protein structures. Next we will load the .fasta files and search the NCBI database via BLAST to identify the protein."
   ]
  },
  {
   "cell_type": "code",
   "execution_count": null,
   "metadata": {},
   "outputs": [],
   "source": [
    "# Imports\n",
    "# part 1\n",
    "from Bio.PDB import *\n",
    "import nglview as nv\n",
    "import ipywidgets\n",
    "# part 2\n",
    "from Bio import SeqIO\n",
    "from Bio.Blast import NCBIWWW\n",
    "from Bio.Blast import NCBIXML"
   ]
  },
  {
   "cell_type": "markdown",
   "metadata": {},
   "source": [
    "## Part 1: Visualize Structures\n",
    "\n",
    "In this section we will load and visualize the protein structure files. Replace the text \"P1_structure.pdb\" with the name of each of the protein .pdb files and run the code block. Once the visualization is generated, you can click and drag to spin the protein around and scroll to zoom in and out. Copy the code block and repeat this for each of the protein files.\n",
    "\n",
    "Here we are using a simple approach to view the proteins with the biopython (Bio.PDB) and nglview packages. There are many more sophisticated tools that allow you to visualize proteins and run analyses on them such as \"molecular docking\". If you are interested in exploring protein structure analysis further a popular and more powerful software tool is [pymol](https://pymol.org/2/)."
   ]
  },
  {
   "cell_type": "code",
   "execution_count": null,
   "metadata": {},
   "outputs": [],
   "source": [
    "file = \"ENTER FILE NAME HERE\"\n",
    "pdb_parser = PDBParser()\n",
    "structure = pdb_parser.get_structure(\"P\", file)\n",
    "structure\n",
    "\n",
    "view = nv.show_biopython(structure)\n",
    "view"
   ]
  },
  {
   "cell_type": "markdown",
   "metadata": {},
   "source": [
    "### QUESTIONS: \n",
    "\n",
    "1. After viewing each protein write down a hypothesis for what you think the function of that protein may be (hint: it's okay if you have no idea, just make something up that seems plausible)\n",
    "2. Are there any features of the structures that stand out? Do you notice any consistent structures across proteins?"
   ]
  },
  {
   "cell_type": "markdown",
   "metadata": {},
   "source": [
    "## Part 2: Search Sequences\n",
    "\n",
    "Here we will use the biopython implementation of of the NCBI BLAST web server (Bio.Blast.NCBIWWW) to search for our sequence in the ncbi database. BLAST (Basic Local ALignment Search Tool) is a bioinformatics tool that aligns sequences with each other to find matches. \n",
    "\n",
    "For our sequences we should be able to find very good (if not exact) matches. We will load our sequence and use the \"blastp\" program and the \"nr\" database to align our sequence to the NCBI non-redundant database of protein sequences. We will search until we find 10 total matches. We will save our BLAST results as an .xml file and then load them and print out all of the matches below a specified e-value. The e-value is a representation of how likely a given match would be expected by chance.\n",
    "\n",
    "Run this part of the notebook and answer the questions for at least one of the proteins by setting the protein_name variable."
   ]
  },
  {
   "cell_type": "code",
   "execution_count": null,
   "metadata": {},
   "outputs": [],
   "source": [
    "# Load Sequence File\n",
    "protein_name = \"ENTER PROTEIN ID FOR FILE NAME HERE\"\n",
    "protein_sequence = SeqIO.read(protein_name+\"_Sequence.fasta\",format=\"fasta\")"
   ]
  },
  {
   "cell_type": "code",
   "execution_count": null,
   "metadata": {},
   "outputs": [],
   "source": [
    "# Run BLAST (this will take several minutes to run)\n",
    "blast_result = NCBIWWW.qblast(\"blastp\",\"nr\",protein_sequence.seq,hitlist_size=10)"
   ]
  },
  {
   "cell_type": "code",
   "execution_count": null,
   "metadata": {},
   "outputs": [],
   "source": [
    "# Save BLAST results\n",
    "result_file = open(protein_name+\"_blast.xml\",\"w\")\n",
    "result_file.write(blast_result.read())\n",
    "result_file.close()\n",
    "blast_result.close()"
   ]
  },
  {
   "cell_type": "code",
   "execution_count": null,
   "metadata": {
    "tags": []
   },
   "outputs": [],
   "source": [
    "# Print out BLAST matches with E-value below a given threshold\n",
    "E_VALUE_THRESH = 1e-20\n",
    "for record in NCBIXML.parse(open(protein_name+\"_blast.xml\")):\n",
    "    if record.alignments:\n",
    "        for align in record.alignments: \n",
    "            for hsp in align.hsps: \n",
    "                #if hsp.expect < E_VALUE_THRESH\n",
    "                print(f\"\\n\")\n",
    "                print(\"match: %s \" % align.title)\n",
    "                print(hsp.expect)"
   ]
  },
  {
   "cell_type": "markdown",
   "metadata": {},
   "source": [
    "### QUESTIONS:\n",
    "\n",
    "3. From the top BLAST matches identify the name of your protein and which organism it likely came from.\n",
    "4. Now that you know the name and organism of your protein, look online and provide a brief description of the function of this protein. UniProt is a good database of protein information to try searching. https://www.uniprot.org/"
   ]
  },
  {
   "cell_type": "code",
   "execution_count": null,
   "metadata": {},
   "outputs": [],
   "source": []
  }
 ],
 "metadata": {
  "kernelspec": {
   "display_name": "Python 3 (ipykernel)",
   "language": "python",
   "name": "python3"
  },
  "language_info": {
   "codemirror_mode": {
    "name": "ipython",
    "version": 3
   },
   "file_extension": ".py",
   "mimetype": "text/x-python",
   "name": "python",
   "nbconvert_exporter": "python",
   "pygments_lexer": "ipython3",
   "version": "3.11.0"
  }
 },
 "nbformat": 4,
 "nbformat_minor": 4
}
