{
 "cells": [
  {
   "cell_type": "markdown",
   "metadata": {},
   "source": [
    "# L2: Molecules, Protein Structure\n"
   ]
  },
  {
   "cell_type": "markdown",
   "metadata": {},
   "source": [
    "## Overview\n",
    "\n",
    "Our goal is to introduce the notebook style of this course and to build familiarity with protein structure and sequence files while gaining  intuition into the utility of protein structures. In part 1, we will visualize protein structures and determine if we can say anything about the protein's function. In part 2, we will then search for the proteins using their amino acid sequence to check their actual function. \n",
    "\n",
    "In this notebook we will take a look at several protein structures. These structures were predicted automatically from alphafold and were downloaded from the [AlphaFold database](https://alphafold.ebi.ac.uk/).\n",
    "\n",
    "There are two types of files that we will work with here (.pdb and .fasta files). Both of these files are plain text files (you can open them in any text editor). Each file has a standard format for the information it represents.\n",
    "* .pdb files: protein structure, this file specifies the coordinates of each atom in each amino acid of the protein\n",
    "* .fasta files: protein sequence, this file lists the amino acid sequence of the protein (Note: .fasta files can contain either amino acid or nucleotide sequences)\n",
    "\n",
    "We will first load the .pdb files and visulaize the protein structures. Next we will load the .fasta files and search the NCBI database via BLAST to identify the protein."
   ]
  },
  {
   "cell_type": "code",
   "execution_count": 1,
   "metadata": {},
   "outputs": [
    {
     "data": {
      "application/vnd.jupyter.widget-view+json": {
       "model_id": "f9dd9365a6a4453f93f8ab4f2d1fa8f4",
       "version_major": 2,
       "version_minor": 0
      },
      "text/plain": []
     },
     "metadata": {},
     "output_type": "display_data"
    }
   ],
   "source": [
    "# Imports\n",
    "# part 1\n",
    "from Bio.PDB import *\n",
    "import nglview as nv\n",
    "import ipywidgets\n",
    "# part 2\n",
    "from Bio import SeqIO\n",
    "from Bio.Blast import NCBIWWW\n",
    "from Bio.Blast import NCBIXML"
   ]
  },
  {
   "cell_type": "markdown",
   "metadata": {},
   "source": [
    "## Part 1: Visualize Structures\n",
    "\n",
    "In this section we will load and visualize the protein structure files. Replace the text \"P1_structure.pdb\" with the name of each of the protein .pdb files and run the code block. Once the visualization is generated, you can click and drag to spin the protein around and scroll to zoom in and out. Copy the code block and repeat this for each of the protein files.\n",
    "\n",
    "Here we are using a simple approach to view the proteins with the biopython (Bio.PDB) and nglview packages. There are many more sophisticated tools that allow you to visualize proteins and run analyses on them such as \"molecular docking\". If you are interested in exploring protein structure analysis further a popular and more powerful software tool is [pymol](https://pymol.org/2/)."
   ]
  },
  {
   "cell_type": "code",
   "execution_count": 5,
   "metadata": {},
   "outputs": [
    {
     "data": {
      "application/vnd.jupyter.widget-view+json": {
       "model_id": "9e6795368e5540f4b1a5af04510ab17b",
       "version_major": 2,
       "version_minor": 0
      },
      "text/plain": [
       "NGLWidget()"
      ]
     },
     "metadata": {},
     "output_type": "display_data"
    }
   ],
   "source": [
    "file = \"P1_Structure.pdb\"\n",
    "pdb_parser = PDBParser()\n",
    "structure = pdb_parser.get_structure(\"P\", file)\n",
    "structure\n",
    "\n",
    "view = nv.show_biopython(structure)\n",
    "view"
   ]
  },
  {
   "cell_type": "markdown",
   "metadata": {},
   "source": [
    "### QUESTIONS: \n",
    "\n",
    "1. After viewing each protein write down a hypothesis for what you think the function of that protein may be (hint: it's okay if you have no idea, just make something up that seems plausible)\n",
    "2. Are there any features of the structures that stand out? Do you notice any consistent structures across proteins?"
   ]
  },
  {
   "cell_type": "markdown",
   "metadata": {},
   "source": [
    "## Part 2: Search Sequences\n",
    "\n",
    "Here we will use the biopython implementation of of the NCBI BLAST web server (Bio.Blast.NCBIWWW) to search for our sequence in the ncbi database. BLAST (Basic Local ALignment Search Tool) is a bioinformatics tool that aligns sequences with each other to find matches. \n",
    "\n",
    "For our sequences we should be able to find very good (if not exact) matches. We will load our sequence and use the \"blastp\" program and the \"nr\" database to align our sequence to the NCBI non-redundant database of protein sequences. We will search until we find 10 total matches. We will save our BLAST results as an .xml file and then load them and print out all of the matches below a specified e-value. The e-value is a representation of how likely a given match would be expected by chance.\n",
    "\n",
    "Run this part of the notebook and answer the questions for at least one of the proteins by setting the protein_name variable."
   ]
  },
  {
   "cell_type": "code",
   "execution_count": 6,
   "metadata": {},
   "outputs": [],
   "source": [
    "# Load Sequence File\n",
    "protein_name = \"P1\"\n",
    "protein_sequence = SeqIO.read(protein_name+\"_Sequence.fasta\",format=\"fasta\")"
   ]
  },
  {
   "cell_type": "code",
   "execution_count": 8,
   "metadata": {},
   "outputs": [
    {
     "ename": "KeyboardInterrupt",
     "evalue": "",
     "output_type": "error",
     "traceback": [
      "\u001b[0;31m---------------------------------------------------------------------------\u001b[0m",
      "\u001b[0;31mKeyboardInterrupt\u001b[0m                         Traceback (most recent call last)",
      "Cell \u001b[0;32mIn[8], line 2\u001b[0m\n\u001b[1;32m      1\u001b[0m \u001b[38;5;66;03m# Run BLAST (this will take several minutes to run)\u001b[39;00m\n\u001b[0;32m----> 2\u001b[0m blast_result \u001b[38;5;241m=\u001b[39m \u001b[43mNCBIWWW\u001b[49m\u001b[38;5;241;43m.\u001b[39;49m\u001b[43mqblast\u001b[49m\u001b[43m(\u001b[49m\u001b[38;5;124;43m\"\u001b[39;49m\u001b[38;5;124;43mblastp\u001b[39;49m\u001b[38;5;124;43m\"\u001b[39;49m\u001b[43m,\u001b[49m\u001b[38;5;124;43m\"\u001b[39;49m\u001b[38;5;124;43mnr\u001b[39;49m\u001b[38;5;124;43m\"\u001b[39;49m\u001b[43m,\u001b[49m\u001b[43mprotein_sequence\u001b[49m\u001b[38;5;241;43m.\u001b[39;49m\u001b[43mseq\u001b[49m\u001b[43m,\u001b[49m\u001b[43mhitlist_size\u001b[49m\u001b[38;5;241;43m=\u001b[39;49m\u001b[38;5;241;43m10\u001b[39;49m\u001b[43m)\u001b[49m\n",
      "File \u001b[0;32m~/opt/anaconda3/envs/CSB1/lib/python3.11/site-packages/Bio/Blast/NCBIWWW.py:246\u001b[0m, in \u001b[0;36mqblast\u001b[0;34m(program, database, sequence, url_base, auto_format, composition_based_statistics, db_genetic_code, endpoints, entrez_query, expect, filter, gapcosts, genetic_code, hitlist_size, i_thresh, layout, lcase_mask, matrix_name, nucl_penalty, nucl_reward, other_advanced, perc_ident, phi_pattern, query_file, query_believe_defline, query_from, query_to, searchsp_eff, service, threshold, ungapped_alignment, word_size, short_query, alignments, alignment_view, descriptions, entrez_links_new_window, expect_low, expect_high, format_entrez_query, format_object, format_type, ncbi_gi, results_file, show_overview, megablast, template_type, template_length)\u001b[0m\n\u001b[1;32m    244\u001b[0m wait \u001b[38;5;241m=\u001b[39m qblast\u001b[38;5;241m.\u001b[39m_previous \u001b[38;5;241m+\u001b[39m delay \u001b[38;5;241m-\u001b[39m current\n\u001b[1;32m    245\u001b[0m \u001b[38;5;28;01mif\u001b[39;00m wait \u001b[38;5;241m>\u001b[39m \u001b[38;5;241m0\u001b[39m:\n\u001b[0;32m--> 246\u001b[0m     time\u001b[38;5;241m.\u001b[39msleep(wait)\n\u001b[1;32m    247\u001b[0m     qblast\u001b[38;5;241m.\u001b[39m_previous \u001b[38;5;241m=\u001b[39m current \u001b[38;5;241m+\u001b[39m wait\n\u001b[1;32m    248\u001b[0m \u001b[38;5;28;01melse\u001b[39;00m:\n",
      "\u001b[0;31mKeyboardInterrupt\u001b[0m: "
     ]
    }
   ],
   "source": [
    "# Run BLAST (this will take several minutes to run)\n",
    "blast_result = NCBIWWW.qblast(\"blastp\",\"nr\",protein_sequence.seq,hitlist_size=10)"
   ]
  },
  {
   "cell_type": "code",
   "execution_count": 9,
   "metadata": {},
   "outputs": [],
   "source": [
    "# Save BLAST results\n",
    "result_file = open(protein_name+\"_blast.xml\",\"w\")\n",
    "result_file.write(blast_result.read())\n",
    "result_file.close()\n",
    "blast_result.close()"
   ]
  },
  {
   "cell_type": "code",
   "execution_count": 10,
   "metadata": {
    "tags": []
   },
   "outputs": [
    {
     "name": "stdout",
     "output_type": "stream",
     "text": [
      "\n",
      "\n",
      "match: ref|WP_000170339.1| glucokinase [Escherichia albertii] >gb|EES0202695.1| glucokinase [Escherichia coli] >gb|EFN6700828.1| glucokinase [Escherichia coli O180:H5] >gb|EFZ2303342.1| glucokinase [Shigella boydii] >gb|EFZ3940019.1| glucokinase [Shigella sonnei] >gb|EFZ8855199.1| glucokinase [Shigella flexneri] \n",
      "0.0\n",
      "\n",
      "\n",
      "match: gb|EGE1235445.1| glucokinase [Escherichia albertii] \n",
      "0.0\n",
      "\n",
      "\n",
      "match: ref|WP_113623213.1| glucokinase [Escherichia albertii] >gb|EEW0112471.1| glucokinase [Escherichia albertii] >gb|EFB7458226.1| glucokinase [Escherichia albertii] >gb|EFB9384048.1| glucokinase [Escherichia albertii] >gb|EFO4719699.1| glucokinase [Escherichia albertii] >gb|EGM7856751.1| glucokinase [Escherichia albertii] \n",
      "0.0\n",
      "\n",
      "\n",
      "match: ref|WP_059218301.1| glucokinase [Escherichia albertii] >gb|WDB49009.1| glucokinase [Escherichia albertii] \n",
      "0.0\n",
      "\n",
      "\n",
      "match: gb|EFL5809094.1| glucokinase [Escherichia coli] >gb|EGM8109535.1| glucokinase [Escherichia albertii] >gb|EGM8205709.1| glucokinase [Escherichia albertii] >gb|EGM8245472.1| glucokinase [Escherichia albertii] >gb|EGM8549726.1| glucokinase [Escherichia albertii] \n",
      "0.0\n",
      "\n",
      "\n",
      "match: gb|EGM8744099.1| glucokinase [Escherichia albertii] \n",
      "0.0\n",
      "\n",
      "\n",
      "match: ref|WP_262938251.1| glucokinase [Escherichia albertii] >gb|EGM4885303.1| glucokinase [Escherichia albertii] >gb|EGM7681735.1| glucokinase [Escherichia albertii] >gb|EGM8307036.1| glucokinase [Escherichia albertii] >gb|EGQ4830657.1| glucokinase [Escherichia albertii] \n",
      "0.0\n",
      "\n",
      "\n",
      "match: ref|WP_273812957.1| glucokinase [Escherichia albertii] >gb|WDC03414.1| glucokinase [Escherichia albertii] \n",
      "0.0\n",
      "\n",
      "\n",
      "match: ref|WP_000170338.1| glucokinase [Escherichia albertii] >gb|EFX6074865.1| glucokinase [Shigella boydii] >gb|EEY3861591.1| glucokinase [Escherichia albertii] >gb|EFI9271974.1| glucokinase [Escherichia albertii] >gb|EFM2362442.1| glucokinase [Escherichia albertii] >gb|EFM2383464.1| glucokinase [Escherichia albertii] \n",
      "0.0\n",
      "\n",
      "\n",
      "match: ref|WP_059214429.1| glucokinase [Escherichia albertii] >tpg|HAH3105990.1| glucokinase [Escherichia coli] \n",
      "0.0\n"
     ]
    }
   ],
   "source": [
    "# Print out BLAST matches with E-value below a given threshold\n",
    "E_VALUE_THRESH = 1e-20\n",
    "for record in NCBIXML.parse(open(protein_name+\"_blast.xml\")):\n",
    "    if record.alignments:\n",
    "        for align in record.alignments: \n",
    "            for hsp in align.hsps: \n",
    "                #if hsp.expect < E_VALUE_THRESH\n",
    "                print(f\"\\n\")\n",
    "                print(\"match: %s \" % align.title)\n",
    "                print(hsp.expect)"
   ]
  },
  {
   "cell_type": "markdown",
   "metadata": {},
   "source": [
    "### QUESTIONS:\n",
    "\n",
    "3. From the top BLAST matches identify the name of your protein and which organism it likely came from.\n",
    "4. Now that you know the name and organism of your protein, look online and provide a brief description of the function of this protein. UniProt is a good database of protein information to try searching. https://www.uniprot.org/"
   ]
  },
  {
   "cell_type": "markdown",
   "metadata": {},
   "source": [
    "### SOLUTIONS:\n",
    "3. \n",
    "* P1, Glucokinase (glk), Escherichia coli\n",
    "* P2, CRISPR-associated endonuclease Cas9 (cas9), Campylobacter jejuni\n",
    "* P3, Green fluorescent protein (GFP), Aequorea victoria (Water jellyfish)\n",
    "* P4, Voltage-dependent anion-selective channel (porin_0), Amphibalanus amphitrite (Striped barnacle)\n",
    "* P5: Invertase 2 (SUC2), Saccharomyces cerevisiae (strain ATCC 204508 / S288c) (Baker's yeast)\n",
    "\n",
    "4. \n",
    "* P1, Phosphorolates glucose to keep it in the cell\n",
    "* P2, Endonuclease (cuts DNA). This protein is part of the CRISPR CAS system that has been developed into an advanced genetic engineering technology.\n",
    "* P3, This fluorescent protein was adapted from jellyfish and turned into a molecular biology tool. It allows for in vivo visualization of protein.\n",
    "* P4, A pore that allows the exchange of ions across the membrane.\n",
    "* P5, Hydrolyzes sucrose into glucose and fructose. Also acts on other sugars with similar structure to sucrose. This was the original enzymatic reaction studied in the development of the Michaelis Menten equation for enzyme kinetics.\n"
   ]
  },
  {
   "cell_type": "code",
   "execution_count": null,
   "metadata": {},
   "outputs": [],
   "source": []
  }
 ],
 "metadata": {
  "kernelspec": {
   "display_name": "Python 3 (ipykernel)",
   "language": "python",
   "name": "python3"
  },
  "language_info": {
   "codemirror_mode": {
    "name": "ipython",
    "version": 3
   },
   "file_extension": ".py",
   "mimetype": "text/x-python",
   "name": "python",
   "nbconvert_exporter": "python",
   "pygments_lexer": "ipython3",
   "version": "3.11.0"
  }
 },
 "nbformat": 4,
 "nbformat_minor": 4
}
