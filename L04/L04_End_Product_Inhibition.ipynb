{
 "cells": [
  {
   "cell_type": "markdown",
   "id": "69db0025-8351-4030-a89e-ddffcac1d23f",
   "metadata": {},
   "source": [
    "# L4: End Product Inhibition"
   ]
  },
  {
   "cell_type": "markdown",
   "id": "0c85d937-2197-48cf-b37f-8e92cbe6415e",
   "metadata": {},
   "source": [
    "## Overview\n",
    "\n",
    "A common observation across biosynthetic pathways is that the end product of a pathway will inhibit the first step in its own biosynthesis. This was first observed in the biosynthesis of amino acids, specifically the production of L-isoleucine from L-threonine. In this notebook, we will use kinetic models of biochemical enzymes to explore they dynamics that arise from this type of regulation.\n"
   ]
  },
  {
   "cell_type": "code",
   "execution_count": null,
   "id": "af9ad1b5-d3a6-4f7f-8930-49f1757f0120",
   "metadata": {},
   "outputs": [],
   "source": [
    "%reset"
   ]
  },
  {
   "cell_type": "code",
   "execution_count": null,
   "id": "63a19895-ccdd-4b28-b8b8-99e463bd88f6",
   "metadata": {},
   "outputs": [],
   "source": [
    "# Imports\n",
    "import numpy as np\n",
    "from scipy.integrate import solve_ivp\n",
    "import matplotlib.pyplot as plt"
   ]
  },
  {
   "cell_type": "markdown",
   "id": "31ea91cc-1d5b-47c4-8d84-30965b034691",
   "metadata": {},
   "source": [
    "### Introduction\n",
    "\n",
    "The biosynthesis of L-isoleucine from L-threonine is a multi-step process involving a chain of chemical reactions with several different co-factors and side products. You can view the pathway and all of the genes involved in more detail using the [KEGG database](https://www.genome.jp/pathway/map00290). \n",
    "\n",
    "L-isoleucine is synthesized from L-threonine in a 5 step linear pathway. In this notebook, we will simulate a simplified version of this pathway that includes these 5 major steps. These steps are catalyzed by enzymes incoded by the genes ilvA, ilvB, ilvC, ilvD, and ilvE. This simplified pathway will not include any of the co-factors or side products of the pathway. We will use simulations of this simplified pathway to explore the dynamics that result from end product inhibition. A schematic of the pathway is given below:\n",
    "\n",
    "$\\large Thr \\overset{A}{\\rightleftharpoons} M_{1} \\overset{B}{\\rightleftharpoons} M_{2} \\overset{C}{\\rightleftharpoons} M_{3} \\overset{D}{\\rightleftharpoons} M_{4} \\overset{E}{\\rightleftharpoons} Ile$\n",
    "\n",
    "Here Thr represents the amino acid L-threonine, Ile is the amino acid L-isoleucine, which is synthesized through five enzymatics steps (A-E) and 4 different intermediate molecules (M 1-4)"
   ]
  },
  {
   "cell_type": "code",
   "execution_count": null,
   "id": "22c2aed6-103b-42e1-b1ac-d96e37f05ddb",
   "metadata": {},
   "outputs": [],
   "source": []
  },
  {
   "cell_type": "markdown",
   "id": "54b953f6-a4db-49f1-a3c8-e1d251cdb32f",
   "metadata": {},
   "source": [
    "### Reversible Michaelis Menten\n",
    "\n",
    "We will start by representing each enzymatic step in this process as a reversible enzyme based on the reversible Michaelis Menten equation. Unlike our previous derivation, this equation does not assume that the final product formation step is irreversible. Thus, the product concentration can influence the rate of the reaction, as reflected in the equation. \n",
    "\n",
    "The reversible Michaelis Menten scheme:\n",
    "\n",
    "$\\large E + S \\underset{k_{-1}}{\\overset{k_{1}}{\\rightleftharpoons}} ES \\underset{k_{-2}}{\\overset{k_{2}}{\\rightleftharpoons}} E + P$\n",
    "\n",
    "The reversible Micahelis Menten rate law can be derived using the steady state assumption $\\frac{d[ES]}{dt}=0$, and the relationship $E_{T} = E + ES$:\n",
    "\n",
    "$\\Large V = E_{T}*\\frac{k_{1}k_{2}[S]-k_{-1}k_{-2}[P]}{k_{-1}+k_{2}+k_{1}[S]+k_{-2}[P]}$\n",
    "\n",
    "With:\n",
    "\n",
    "$V_{max}^{f}=E_{T}*k_{2}$, $V_{max}^{r}=E_{T}*k_{-2}$, $K_{M}^{S}=\\frac{k_{-1}+k_{2}}{k_{1}}$, $K_{M}^{P}=\\frac{k_{-1}+k_{2}}{k_{-2}}$\n",
    "\n",
    "$\\Large V = \\frac{\\frac{V_{max}^{f}}{K_{M}^{S}}*[S]-\\frac{V_{max}^{r}}{K_{M}^{P}}*[P]}{1+\\frac{[S]}{K_{M}^{S}}+\\frac{[P]}{K_{M}^{P}}}$\n",
    "\n",
    "The reaction rate depends on the concentration of substrate $[S]$ and product $[P]$ as well as the four parameters ($V_{max}^{f}, V_{max}^{r}, K_{M}^{S}, K_{M}^{P}$).\n",
    "\n"
   ]
  },
  {
   "cell_type": "code",
   "execution_count": null,
   "id": "6ea33524-9ec8-4515-9d8e-fd0dcb1797e8",
   "metadata": {},
   "outputs": [],
   "source": [
    "# Plot Rate vs Substrate Concentration\n",
    "V_max_f = 10\n",
    "V_max_r = 1\n",
    "K_M_S = 1\n",
    "K_M_P = 1\n",
    "P = 10\n",
    "S = np.linspace(0,100,100)\n",
    "\n",
    "V = ((V_max_f/K_M_S)*S-(V_max_r/K_M_P)*P)/(1+(S/K_M_S)+(P/K_M_P))\n",
    "\n",
    "plt.plot(S,V)\n",
    "plt.xlabel('Substrate Concentration')\n",
    "plt.ylabel('Reaction Rate');"
   ]
  },
  {
   "cell_type": "markdown",
   "id": "26f9e399-b5e1-4d4f-ac87-9355dd940ca1",
   "metadata": {},
   "source": [
    "#### QUESTION 1\n",
    "1. The reversible Michaelis Menten equation is a more general equation that can also capture the dynamics of the irreversible Michaelis Menten equation.\n",
    "   * a. Recreate the plot above and add a curve by changing the parameters to plot the rate for the irreversible case.\n",
    "   * b. Explain the changes that you made."
   ]
  },
  {
   "cell_type": "code",
   "execution_count": null,
   "id": "d5f7ab50-699c-4954-918a-f18e0712c2a3",
   "metadata": {},
   "outputs": [],
   "source": []
  },
  {
   "attachments": {
    "2afcb870-a699-4858-95a2-aedc6d822cd0.png": {
     "image/png": "[encoded data removed]"
    }
   },
   "cell_type": "markdown",
   "id": "9727067f-fe74-41de-adf8-fa76ac2267e9",
   "metadata": {},
   "source": [
    "### Competitive Inhibition Rate Law\n",
    "\n",
    "We will also introduce the inhibitory effect of a molecule on the kinetics of an enzyme through the competitive inhibition rate law. There are several different ways that a molecule can inhibit an enzyme that lead to slightly different rate laws (outlined in Klipp 4.1.5). Here we will use the competitive inhibition model where the inhibitor competes with the substrate to bind the enzyme (I.E. only one can bind at a time).\n",
    "\n",
    "The reaction scheme for competitive inhibition:\n",
    "\n",
    "![Screenshot 2024-02-05 at 6.46.27 PM.png](attachment:2afcb870-a699-4858-95a2-aedc6d822cd0.png)\n",
    "\n",
    "The reversible competitive inhibition rate law:\n",
    "\n",
    "$\\Large V = \\frac{\\frac{V_{max}^{f}}{K_{M}^{S}}*[S]-\\frac{V_{max}^{r}}{K_{M}^{P}}*[P]}{1 + \\frac{[S]}{K_{M}^{S}}+\\frac{[P]}{K_{M}^{P}}+\\frac{[I]}{K^{I}}}$\n",
    "\n",
    "The reaction rate depends on the concetration of substrate $[S]$ and product $[P]$ as well as inhibitor $[I]$, the original four parameters ($V_{max}^{f}, V_{max}^{r}, K_{M}^{S}, K_{M}^{P}$), and a new parameter related to inhibitor binding ($K^{I}$)\n",
    "\n",
    "Where: $K^{I} = \\frac{k_{-3}}{k_{3}}$\n"
   ]
  },
  {
   "cell_type": "markdown",
   "id": "f430ea08-c600-4c30-ad13-75802b409b35",
   "metadata": {},
   "source": [
    "#### QUESTION 2: \n",
    "\n",
    "2. Explore the shape of this equation by plotting the reaction rate $V$ as a function of inhibitor concentration $[I]$.\n",
    "    * a. Use the parameters from above, setting $S=10$ and adding a new parameter K_I = 10 to plot $V$ as a function of $[I]$. Plot $[I]$ on the x-axis on a log scale.\n",
    "    * b. Change the parameter $K_{I}$ to 0.1. How does this change the shape of the curve.\n",
    "    * c. Provide a brief explanation for how $K_{I}$ modulates the sensitivity of the reaction rate to the concentration of inhibitor.\n"
   ]
  },
  {
   "cell_type": "code",
   "execution_count": null,
   "id": "f9dae401-3159-4721-9611-531c6edf91b7",
   "metadata": {},
   "outputs": [],
   "source": []
  },
  {
   "cell_type": "markdown",
   "id": "2729d56c-d7f6-405b-92ee-1f9cf2e943bd",
   "metadata": {},
   "source": [
    "### Dynamic Model for End Product Inhibition\n",
    "\n",
    "We will now put together the reversible Michaelis Menten rate law and the competitive inhibition rate law to simulate end-product inhibition dynamics with this full pathway.\n",
    "\n",
    "We set up the equations using vectors for each parameter to save space. The parameter vectors have 5 entries, coresponding to the 5 different enzyems (A, B, C, D, and E). For example, the inhibition constant K_I_ABCDE maps the inhibition of the end product (Isoleucine) to each of the different enzymes. Each reaction uses the full competitive inhibition rate law equaiton, where the rate law can be made to represent the reversible or irreversible Michaelis Menten kinteics by changing the corresponding parameters."
   ]
  },
  {
   "cell_type": "code",
   "execution_count": null,
   "id": "ac6fd20a-7b31-43f2-a5e2-7f6ad8bc2fb7",
   "metadata": {},
   "outputs": [],
   "source": [
    "def EPI_dynamics(t,y,V_max_f_ABCDE,V_max_r_ABCDE,K_M_S_ABCDE,K_M_P_ABCDE,K_I_ABCDE):\n",
    "    # y[0] = Thr L-threonine\n",
    "    # y[1] = M1\n",
    "    # y[2] = M2\n",
    "    # y[3] = M3\n",
    "    # y[4] = M4\n",
    "    # y[5] = Ile Isoleucine\n",
    "    dydt = np.zeros(6)\n",
    "\n",
    "    I = y[5] #Isoleucine as inhibitor\n",
    "    \n",
    "    # enzyme rate laws\n",
    "    V = np.zeros(len(y)-1)\n",
    "    for i in range(len(y)-1):\n",
    "        S = y[i]\n",
    "        P = y[i+1]\n",
    "        V[i] = ((V_max_f_ABCDE[i]/K_M_S_ABCDE[i])*S-(V_max_r_ABCDE[i]/K_M_P_ABCDE[i])*P)/(1+S/K_M_S_ABCDE[i]+P/K_M_P_ABCDE[i]+I/K_I_ABCDE[i])\n",
    "        \n",
    "    #dydt[0] = -V[0] #dynamic substrate\n",
    "    dydt[0] = 0 #fixed substrate\n",
    "    dydt[1] = V[0]-V[1]\n",
    "    dydt[2] = V[1]-V[2]\n",
    "    dydt[3] = V[2]-V[3]\n",
    "    dydt[4] = V[3]-V[4]\n",
    "    dydt[5] = V[4]\n",
    "\n",
    "    return dydt"
   ]
  },
  {
   "cell_type": "code",
   "execution_count": null,
   "id": "2d19d13c-bbf3-4c7a-b834-79d97b13dc3c",
   "metadata": {},
   "outputs": [],
   "source": [
    "# Initial Conditions\n",
    "y0 = [10,0,0,0,0,0]\n",
    "# time span\n",
    "t = np.linspace(0,10,1000)\n",
    "tspan = [t[0],t[-1]]\n",
    "V_max_f_ABCDE = [10,10,10,10,10]\n",
    "V_max_r_ABCDE = [5,5,5,5,5]\n",
    "K_M_S_ABCDE = [1,1,1,1,1]\n",
    "K_M_P_ABCDE = [1,1,1,1,1]\n",
    "K_I_ABCDE = [100,100,100,100,100]\n",
    "ode_sol = solve_ivp(lambda t,y:EPI_dynamics(t,y,V_max_f_ABCDE,V_max_r_ABCDE,K_M_S_ABCDE,K_M_P_ABCDE,K_I_ABCDE),tspan,y0,t_eval=t)"
   ]
  },
  {
   "cell_type": "code",
   "execution_count": null,
   "id": "d2cb4c4b-9aec-415e-9554-7498a27e1c1c",
   "metadata": {},
   "outputs": [],
   "source": [
    "plt.plot(t,ode_sol.y[0],'r')\n",
    "plt.plot(t,ode_sol.y[1],'orange')\n",
    "plt.plot(t,ode_sol.y[2],'y')\n",
    "plt.plot(t,ode_sol.y[3],'g')\n",
    "plt.plot(t,ode_sol.y[4],'b')\n",
    "plt.plot(t,ode_sol.y[5],'k')\n",
    "\n",
    "plt.xlabel('time [s]')\n",
    "plt.ylabel('concentration [mM]')\n",
    "plt.legend(['Thr','M1','M2','M3','M4','Ile']);"
   ]
  },
  {
   "cell_type": "markdown",
   "id": "8a2f61cf-b530-47f8-b216-63abbb6ac41e",
   "metadata": {},
   "source": [
    "\n",
    "#### QUESTION 3:\n",
    "3. The system is currently set up such that there is no inhibition (all inhibition constant values are very high). Thus, there is uninhibited production of isoleucine. Change the simulation such that the system displays end product inhibition by changing the inhibition constant of the first reaction.\n",
    "    * a. Include a plot of the dynamics with end product inhibition.\n",
    "    * b. Explain how you change the inhibition constant and how the dynamics have changed."
   ]
  },
  {
   "cell_type": "code",
   "execution_count": null,
   "id": "eac70e26-c26f-4b71-8b5e-e6e28a3f87e5",
   "metadata": {},
   "outputs": [],
   "source": []
  },
  {
   "cell_type": "markdown",
   "id": "7dcb25c1-b0a0-4c6d-8cc1-1afe2ae328cf",
   "metadata": {},
   "source": [
    "#### QUESTION 4:\n",
    "4. In biology it is typically found that the end product inhibits the first reaction in the biosynthetic pathway. Change the simulation so that the end product inhibits the last enzyme in the pathway.\n",
    "   * a. Plot the dynamics for this scenario.\n",
    "   * b. Provide a brief discussion of why biological systems might prefer to inhibit the first step in the pathway rather than later steps."
   ]
  },
  {
   "cell_type": "code",
   "execution_count": null,
   "id": "e787dc71-24a5-4f17-9134-28cdec37a294",
   "metadata": {},
   "outputs": [],
   "source": []
  },
  {
   "cell_type": "markdown",
   "id": "4112f343-9167-4e2c-8476-08acea50d339",
   "metadata": {},
   "source": [
    "#### QUESTION 5:\n",
    "5. In the Umbarger [1956] paper the statement is made that because the first step in the reaction pathway is irreversible, it must be the step that is inhibited. Change the parameters such that this first step is made irreversible.\n",
    "   * a. Provide a plot of this new system where the first step is also inhibited.\n",
    "   * b. Provide a plot of this new system where some other step is inhibited.\n",
    "   * c. Explain how the first step being irreversible necessitates that this step be inhibited to prevent run away Isoleucine production."
   ]
  },
  {
   "cell_type": "code",
   "execution_count": null,
   "id": "64ae7723-eefa-405f-b6ff-bc37b97987a4",
   "metadata": {},
   "outputs": [],
   "source": []
  },
  {
   "cell_type": "markdown",
   "id": "41449c1f-2555-4e6f-9fb4-2ce2a8e0036e",
   "metadata": {},
   "source": [
    "### BONUS\n",
    "In the Umbarger [1956] paper the observation was made that the presence of L-isoleucine prevented the depletion of L-threonine. We can explore this observation by adding dynamics to the L-threonine concentration and testing the impact of adding an initial amount of L-isoleucine under different regulatory patterns.\n"
   ]
  },
  {
   "cell_type": "code",
   "execution_count": null,
   "id": "621e4602-56cd-4c82-82d5-73e9b35f29b4",
   "metadata": {},
   "outputs": [],
   "source": [
    "# Pathway dynamics with dynamic substrate\n",
    "def EPI_dynamics_2(t,y,V_max_f_ABCDE,V_max_r_ABCDE,K_M_S_ABCDE,K_M_P_ABCDE,K_I_ABCDE):\n",
    "    # y[0] = Thr L-threonine\n",
    "    # y[1] = M1\n",
    "    # y[2] = M2\n",
    "    # y[3] = M3\n",
    "    # y[4] = M4\n",
    "    # y[5] = Ile Isoleucine\n",
    "    dydt = np.zeros(6)\n",
    "\n",
    "    I = y[5] #Isoleucine as inhibitor\n",
    "    \n",
    "    # enzye rate laws\n",
    "    V = np.zeros(len(y)-1)\n",
    "    for i in range(len(y)-1):\n",
    "        S = y[i]\n",
    "        P = y[i+1]\n",
    "        V[i] = ((V_max_f_ABCDE[i]/K_M_S_ABCDE[i])*S-(V_max_r_ABCDE[i]/K_M_P_ABCDE[i])*P)/(1+S/K_M_S_ABCDE[i]+P/K_M_P_ABCDE[i]+I/K_I_ABCDE[i])\n",
    "        \n",
    "    dydt[0] = -V[0] #dynamic substrate\n",
    "    #dydt[0] = 0 #fixed substrate\n",
    "    dydt[1] = V[0]-V[1]\n",
    "    dydt[2] = V[1]-V[2]\n",
    "    dydt[3] = V[2]-V[3]\n",
    "    dydt[4] = V[3]-V[4]\n",
    "    dydt[5] = V[4]\n",
    "\n",
    "    return dydt"
   ]
  },
  {
   "cell_type": "code",
   "execution_count": null,
   "id": "f2e8ab2b-6444-40b9-9ead-db92ed347df7",
   "metadata": {},
   "outputs": [],
   "source": [
    "fig,axs = plt.subplots(2,3,figsize=(14, 8))\n",
    "# with out end product inhibition\n",
    "# Initial Conditions\n",
    "y0 = [10,0,0,0,0,0]\n",
    "# time span\n",
    "t = np.linspace(0,10,1000)\n",
    "tspan = [t[0],t[-1]]\n",
    "V_max_f_ABCDE = [10,10,10,10,10]\n",
    "V_max_r_ABCDE = [5,5,5,5,5]\n",
    "K_M_S_ABCDE = [1,1,1,1,1]\n",
    "K_M_P_ABCDE = [1,1,1,1,1]\n",
    "K_I_ABCDE = [100,100,100,100,100]\n",
    "ode_sol = solve_ivp(lambda t,y:EPI_dynamics_2(t,y,V_max_f_ABCDE,V_max_r_ABCDE,K_M_S_ABCDE,K_M_P_ABCDE,K_I_ABCDE),tspan,y0,t_eval=t)\n",
    "axs[0,0].plot(t,ode_sol.y[0],'r')\n",
    "axs[0,0].plot(t,ode_sol.y[1],'orange')\n",
    "axs[0,0].plot(t,ode_sol.y[2],'y')\n",
    "axs[0,0].plot(t,ode_sol.y[3],'g')\n",
    "axs[0,0].plot(t,ode_sol.y[4],'b')\n",
    "axs[0,0].plot(t,ode_sol.y[5],'k')\n",
    "axs[0,0].set_xlabel('time [s]')\n",
    "axs[0,0].set_ylabel('concentration [mM]')\n",
    "axs[0,0].legend(['Thr','M1','M2','M3','M4','Ile']);\n",
    "axs[0,0].set_title('No Inhibition')\n",
    "\n",
    "# first step inhibition\n",
    "# Initial Conditions\n",
    "y0 = [10,0,0,0,0,0]\n",
    "# time span\n",
    "t = np.linspace(0,10,1000)\n",
    "tspan = [t[0],t[-1]]\n",
    "V_max_f_ABCDE = [10,10,10,10,10]\n",
    "V_max_r_ABCDE = [5,5,5,5,5]\n",
    "K_M_S_ABCDE = [1,1,1,1,1]\n",
    "K_M_P_ABCDE = [1,1,1,1,1]\n",
    "K_I_ABCDE = [0.01,100,100,100,100]\n",
    "ode_sol = solve_ivp(lambda t,y:EPI_dynamics_2(t,y,V_max_f_ABCDE,V_max_r_ABCDE,K_M_S_ABCDE,K_M_P_ABCDE,K_I_ABCDE),tspan,y0,t_eval=t)\n",
    "axs[0,1].plot(t,ode_sol.y[0],'r')\n",
    "axs[0,1].plot(t,ode_sol.y[1],'orange')\n",
    "axs[0,1].plot(t,ode_sol.y[2],'y')\n",
    "axs[0,1].plot(t,ode_sol.y[3],'g')\n",
    "axs[0,1].plot(t,ode_sol.y[4],'b')\n",
    "axs[0,1].plot(t,ode_sol.y[5],'k')\n",
    "axs[0,1].set_xlabel('time [s]')\n",
    "axs[0,1].set_ylabel('concentration [mM]')\n",
    "axs[0,1].legend(['Thr','M1','M2','M3','M4','Ile']);\n",
    "axs[0,1].set_title('First Step Inhibition');\n",
    "# last step inhibition\n",
    "# Initial Conditions\n",
    "y0 = [10,0,0,0,0,0]\n",
    "# time span\n",
    "t = np.linspace(0,10,1000)\n",
    "tspan = [t[0],t[-1]]\n",
    "V_max_f_ABCDE = [10,10,10,10,10]\n",
    "V_max_r_ABCDE = [5,5,5,5,5]\n",
    "K_M_S_ABCDE = [1,1,1,1,1]\n",
    "K_M_P_ABCDE = [1,1,1,1,1]\n",
    "K_I_ABCDE = [100,100,100,100,0.01]\n",
    "ode_sol = solve_ivp(lambda t,y:EPI_dynamics_2(t,y,V_max_f_ABCDE,V_max_r_ABCDE,K_M_S_ABCDE,K_M_P_ABCDE,K_I_ABCDE),tspan,y0,t_eval=t)\n",
    "axs[0,2].plot(t,ode_sol.y[0],'r')\n",
    "axs[0,2].plot(t,ode_sol.y[1],'orange')\n",
    "axs[0,2].plot(t,ode_sol.y[2],'y')\n",
    "axs[0,2].plot(t,ode_sol.y[3],'g')\n",
    "axs[0,2].plot(t,ode_sol.y[4],'b')\n",
    "axs[0,2].plot(t,ode_sol.y[5],'k')\n",
    "axs[0,2].set_xlabel('time [s]')\n",
    "axs[0,2].set_ylabel('concentration [mM]')\n",
    "axs[0,2].legend(['Thr','M1','M2','M3','M4','Ile']);\n",
    "axs[0,2].set_title('Last Step Inhibition');\n",
    "\n",
    "\n",
    "# with out end product inhibition\n",
    "# Initial Conditions\n",
    "y0 = [10,0,0,0,0,10]\n",
    "# time span\n",
    "t = np.linspace(0,10,1000)\n",
    "tspan = [t[0],t[-1]]\n",
    "V_max_f_ABCDE = [10,10,10,10,10]\n",
    "V_max_r_ABCDE = [5,5,5,5,5]\n",
    "K_M_S_ABCDE = [1,1,1,1,1]\n",
    "K_M_P_ABCDE = [1,1,1,1,1]\n",
    "K_I_ABCDE = [100,100,100,100,100]\n",
    "ode_sol = solve_ivp(lambda t,y:EPI_dynamics_2(t,y,V_max_f_ABCDE,V_max_r_ABCDE,K_M_S_ABCDE,K_M_P_ABCDE,K_I_ABCDE),tspan,y0,t_eval=t)\n",
    "axs[1,0].plot(t,ode_sol.y[0],'r')\n",
    "axs[1,0].plot(t,ode_sol.y[1],'orange')\n",
    "axs[1,0].plot(t,ode_sol.y[2],'y')\n",
    "axs[1,0].plot(t,ode_sol.y[3],'g')\n",
    "axs[1,0].plot(t,ode_sol.y[4],'b')\n",
    "axs[1,0].plot(t,ode_sol.y[5],'k')\n",
    "axs[1,0].set_xlabel('time [s]')\n",
    "axs[1,0].set_ylabel('concentration [mM]')\n",
    "axs[1,0].legend(['Thr','M1','M2','M3','M4','Ile']);\n",
    "axs[1,0].set_title('No Inhibition')\n",
    "\n",
    "# first step inhibition\n",
    "# Initial Conditions\n",
    "y0 = [10,0,0,0,0,10]\n",
    "# time span\n",
    "t = np.linspace(0,10,1000)\n",
    "tspan = [t[0],t[-1]]\n",
    "V_max_f_ABCDE = [10,10,10,10,10]\n",
    "V_max_r_ABCDE = [5,5,5,5,5]\n",
    "K_M_S_ABCDE = [1,1,1,1,1]\n",
    "K_M_P_ABCDE = [1,1,1,1,1]\n",
    "K_I_ABCDE = [0.01,100,100,100,100]\n",
    "ode_sol = solve_ivp(lambda t,y:EPI_dynamics_2(t,y,V_max_f_ABCDE,V_max_r_ABCDE,K_M_S_ABCDE,K_M_P_ABCDE,K_I_ABCDE),tspan,y0,t_eval=t)\n",
    "axs[1,1].plot(t,ode_sol.y[0],'r')\n",
    "axs[1,1].plot(t,ode_sol.y[1],'orange')\n",
    "axs[1,1].plot(t,ode_sol.y[2],'y')\n",
    "axs[1,1].plot(t,ode_sol.y[3],'g')\n",
    "axs[1,1].plot(t,ode_sol.y[4],'b')\n",
    "axs[1,1].plot(t,ode_sol.y[5],'k')\n",
    "axs[1,1].set_xlabel('time [s]')\n",
    "axs[1,1].set_ylabel('concentration [mM]')\n",
    "axs[1,1].legend(['Thr','M1','M2','M3','M4','Ile']);\n",
    "axs[1,1].set_title('First Step Inhibition');\n",
    "# last step inhibition\n",
    "# Initial Conditions\n",
    "y0 = [10,0,0,0,0,10]\n",
    "# time span\n",
    "t = np.linspace(0,10,1000)\n",
    "tspan = [t[0],t[-1]]\n",
    "V_max_f_ABCDE = [10,10,10,10,10]\n",
    "V_max_r_ABCDE = [5,5,5,5,5]\n",
    "K_M_S_ABCDE = [1,1,1,1,1]\n",
    "K_M_P_ABCDE = [1,1,1,1,1]\n",
    "K_I_ABCDE = [100,100,100,100,0.01]\n",
    "ode_sol = solve_ivp(lambda t,y:EPI_dynamics_2(t,y,V_max_f_ABCDE,V_max_r_ABCDE,K_M_S_ABCDE,K_M_P_ABCDE,K_I_ABCDE),tspan,y0,t_eval=t)\n",
    "axs[1,2].plot(t,ode_sol.y[0],'r')\n",
    "axs[1,2].plot(t,ode_sol.y[1],'orange')\n",
    "axs[1,2].plot(t,ode_sol.y[2],'y')\n",
    "axs[1,2].plot(t,ode_sol.y[3],'g')\n",
    "axs[1,2].plot(t,ode_sol.y[4],'b')\n",
    "axs[1,2].plot(t,ode_sol.y[5],'k')\n",
    "axs[1,2].set_xlabel('time [s]')\n",
    "axs[1,2].set_ylabel('concentration [mM]')\n",
    "axs[1,2].legend(['Thr','M1','M2','M3','M4','Ile']);\n",
    "axs[1,2].set_title('Last Step Inhibition');"
   ]
  },
  {
   "cell_type": "code",
   "execution_count": null,
   "id": "0a3ba006-917e-460a-ac6a-ee1ea46e0bef",
   "metadata": {},
   "outputs": [],
   "source": []
  }
 ],
 "metadata": {
  "kernelspec": {
   "display_name": "Python 3 (ipykernel)",
   "language": "python",
   "name": "python3"
  },
  "language_info": {
   "codemirror_mode": {
    "name": "ipython",
    "version": 3
   },
   "file_extension": ".py",
   "mimetype": "text/x-python",
   "name": "python",
   "nbconvert_exporter": "python",
   "pygments_lexer": "ipython3",
   "version": "3.10.16"
  }
 },
 "nbformat": 4,
 "nbformat_minor": 5
}
